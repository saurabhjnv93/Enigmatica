{
 "cells": [
  {
   "cell_type": "code",
   "execution_count": 15,
   "metadata": {},
   "outputs": [],
   "source": [
    "from PDFTextProcessor import PDFTextProcessor\n",
    "from AnsweringClass import AnsweringClass"
   ]
  },
  {
   "cell_type": "code",
   "execution_count": 16,
   "metadata": {},
   "outputs": [],
   "source": [
    "a = AnsweringClass()"
   ]
  },
  {
   "cell_type": "code",
   "execution_count": 3,
   "metadata": {},
   "outputs": [
    {
     "name": "stdout",
     "output_type": "stream",
     "text": [
      "Text extraction completed. Saved to output_text_russell.txt\n",
      "Text cleaning completed. Saved to cleaned_text_russell.txt\n",
      "DataFrame saved to paragraphs.csv\n"
     ]
    }
   ],
   "source": [
    "processor = PDFTextProcessor(\n",
    "    pdf_path=\"../books/AI_Russell_Norvig.pdf\",\n",
    "    output_txt_path=\"output_text_russell.txt\",\n",
    "    cleaned_txt_path=\"cleaned_text_russell.txt\"\n",
    ")\n",
    "\n",
    "# Step 1: Extract and clean text from the PDF\n",
    "processor.extract_text()\n",
    "\n",
    "# Step 2: Further clean the raw extracted text\n",
    "processor.clean_text_file()\n",
    "\n",
    "# Step 3: Process the cleaned text into paragraphs and save as CSV\n",
    "df = processor.process_text_to_dataframe(\"cleaned_text_russell.txt\", output_csv_path=\"paragraphs.csv\")\n"
   ]
  },
  {
   "cell_type": "code",
   "execution_count": null,
   "metadata": {},
   "outputs": [],
   "source": []
  },
  {
   "cell_type": "code",
   "execution_count": 4,
   "metadata": {},
   "outputs": [],
   "source": [
    "df[\"embedding\"] = df[\"paragraph\"].apply(lambda x: a.get_sentence_embedding(x))\n"
   ]
  },
  {
   "cell_type": "code",
   "execution_count": 17,
   "metadata": {},
   "outputs": [
    {
     "data": {
      "text/plain": [
       "[('Some systems attempt to analyze the source language text all the way\\nguage from that representation. This is difﬁcult because it involves three unsolved problems:\\ncreating a complete knowledge representation of everything; parsing into that representation;\\nand generating sentences from that representation.',\n",
       "  0.56909376),\n",
       " ('free grammar) are useful tools for dealing with some aspects of natural language. TheBibliographical and Historical Notes\\nsuch as the CYK algorithm, which requires grammar rules to be in Chomsky Normal\\n• A treebank can be used to learn a grammar. It is also possible to learn a grammar from\\nan unparsed corpus of sentences, but this is less successful.',\n",
       "  0.5620087),\n",
       " ('So in a trigram model (Markov chain of\\nWe can deﬁne the probability of a sequence of characters P(c1:N) under the trigram model\\nby ﬁrst factoring with the chain rule and then using the Markov assumption:\\nentries, and can be accurately estimated by counting character sequences in a body of text of\\nLatin word for body.Chapter\\nNatural Language Processing\\nis language identiﬁcation: given a text, determine what natural language it is written in.',\n",
       "  0.55888456),\n",
       " ('Modern linguistics and AI, then, were “born” at about the same time, and grew up\\ntogether, intersecting in a hybrid ﬁeld called computational linguistics or natural language\\nprocessing. The problem of understanding language soon turned out to be considerably more\\nsubject matter and context, not just an understanding of the structure of sentences.',\n",
       "  0.5471308),\n",
       " ('In practice, these systems work on all relations in parallel,\\nextraction system that is targeted at a few relations and more like a human reader who learns\\nfrom the text itself; because of this the ﬁeld has been called machine reading. TEXTRUNNER uses cotraining to boost its performance, but it needs something to bootstrap\\nships are expressed in English.',\n",
       "  0.5369439)]"
      ]
     },
     "execution_count": 17,
     "metadata": {},
     "output_type": "execute_result"
    }
   ],
   "source": [
    "(a.get_top_matches(\"What is natural language processing, and what are its main applications?\",df,embedding_column=\"embedding\"))"
   ]
  },
  {
   "cell_type": "code",
   "execution_count": null,
   "metadata": {},
   "outputs": [],
   "source": []
  }
 ],
 "metadata": {
  "kernelspec": {
   "display_name": "chatbot",
   "language": "python",
   "name": "python3"
  },
  "language_info": {
   "codemirror_mode": {
    "name": "ipython",
    "version": 3
   },
   "file_extension": ".py",
   "mimetype": "text/x-python",
   "name": "python",
   "nbconvert_exporter": "python",
   "pygments_lexer": "ipython3",
   "version": "3.12.3"
  }
 },
 "nbformat": 4,
 "nbformat_minor": 2
}
