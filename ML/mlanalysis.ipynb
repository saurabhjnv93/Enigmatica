{
 "cells": [
  {
   "cell_type": "code",
   "execution_count": 58,
   "metadata": {},
   "outputs": [],
   "source": [
    "import pandas as pd"
   ]
  },
  {
   "cell_type": "markdown",
   "metadata": {},
   "source": []
  },
  {
   "cell_type": "code",
   "execution_count": 59,
   "metadata": {},
   "outputs": [],
   "source": [
    "\"\"\"The below Dataset not taken from internet. It is made by us with help of AI tools. \"\"\"\n",
    "df=pd.read_csv(\"../ML/MLquestions.csv\")\n"
   ]
  },
  {
   "cell_type": "code",
   "execution_count": 60,
   "metadata": {},
   "outputs": [
    {
     "data": {
      "text/html": [
       "<div>\n",
       "<style scoped>\n",
       "    .dataframe tbody tr th:only-of-type {\n",
       "        vertical-align: middle;\n",
       "    }\n",
       "\n",
       "    .dataframe tbody tr th {\n",
       "        vertical-align: top;\n",
       "    }\n",
       "\n",
       "    .dataframe thead th {\n",
       "        text-align: right;\n",
       "    }\n",
       "</style>\n",
       "<table border=\"1\" class=\"dataframe\">\n",
       "  <thead>\n",
       "    <tr style=\"text-align: right;\">\n",
       "      <th></th>\n",
       "      <th>Category</th>\n",
       "      <th>Question</th>\n",
       "    </tr>\n",
       "  </thead>\n",
       "  <tbody>\n",
       "    <tr>\n",
       "      <th>0</th>\n",
       "      <td>Supervised Learning</td>\n",
       "      <td>What is the fundamental definition of supervis...</td>\n",
       "    </tr>\n",
       "    <tr>\n",
       "      <th>1</th>\n",
       "      <td>Supervised Learning</td>\n",
       "      <td>How does labeled training data play a crucial ...</td>\n",
       "    </tr>\n",
       "    <tr>\n",
       "      <th>2</th>\n",
       "      <td>Supervised Learning</td>\n",
       "      <td>What are the primary types of supervised learn...</td>\n",
       "    </tr>\n",
       "    <tr>\n",
       "      <th>3</th>\n",
       "      <td>Supervised Learning</td>\n",
       "      <td>Explain the difference between classification ...</td>\n",
       "    </tr>\n",
       "    <tr>\n",
       "      <th>4</th>\n",
       "      <td>Supervised Learning</td>\n",
       "      <td>How do decision trees work in supervised learn...</td>\n",
       "    </tr>\n",
       "    <tr>\n",
       "      <th>...</th>\n",
       "      <td>...</td>\n",
       "      <td>...</td>\n",
       "    </tr>\n",
       "    <tr>\n",
       "      <th>1972</th>\n",
       "      <td>Unsupervised Learning</td>\n",
       "      <td>How do probabilistic methods handle non-statio...</td>\n",
       "    </tr>\n",
       "    <tr>\n",
       "      <th>1973</th>\n",
       "      <td>Unsupervised Learning</td>\n",
       "      <td>What are the computational considerations in d...</td>\n",
       "    </tr>\n",
       "    <tr>\n",
       "      <th>1974</th>\n",
       "      <td>Unsupervised Learning</td>\n",
       "      <td>How do kernel-based approaches enhance multi-s...</td>\n",
       "    </tr>\n",
       "    <tr>\n",
       "      <th>1975</th>\n",
       "      <td>Unsupervised Learning</td>\n",
       "      <td>What are the advanced techniques for handling ...</td>\n",
       "    </tr>\n",
       "    <tr>\n",
       "      <th>1976</th>\n",
       "      <td>Unsupervised Learning</td>\n",
       "      <td>How do information-theoretic approaches optimi...</td>\n",
       "    </tr>\n",
       "  </tbody>\n",
       "</table>\n",
       "<p>1977 rows × 2 columns</p>\n",
       "</div>"
      ],
      "text/plain": [
       "                   Category                                           Question\n",
       "0       Supervised Learning  What is the fundamental definition of supervis...\n",
       "1       Supervised Learning  How does labeled training data play a crucial ...\n",
       "2       Supervised Learning  What are the primary types of supervised learn...\n",
       "3       Supervised Learning  Explain the difference between classification ...\n",
       "4       Supervised Learning  How do decision trees work in supervised learn...\n",
       "...                     ...                                                ...\n",
       "1972  Unsupervised Learning  How do probabilistic methods handle non-statio...\n",
       "1973  Unsupervised Learning  What are the computational considerations in d...\n",
       "1974  Unsupervised Learning  How do kernel-based approaches enhance multi-s...\n",
       "1975  Unsupervised Learning  What are the advanced techniques for handling ...\n",
       "1976  Unsupervised Learning  How do information-theoretic approaches optimi...\n",
       "\n",
       "[1977 rows x 2 columns]"
      ]
     },
     "execution_count": 60,
     "metadata": {},
     "output_type": "execute_result"
    }
   ],
   "source": [
    "df"
   ]
  },
  {
   "cell_type": "code",
   "execution_count": 61,
   "metadata": {},
   "outputs": [
    {
     "data": {
      "text/plain": [
       "Category\n",
       "Deep learning               486\n",
       "Reinforcement Learning      414\n",
       "Unsupervised Learning       392\n",
       "Supervised Learning         337\n",
       "Semi-Supervised Learning    336\n",
       "Topic                         6\n",
       "Category                      4\n",
       " Category                     1\n",
       "SupervisedLearning            1\n",
       "Name: count, dtype: int64"
      ]
     },
     "execution_count": 61,
     "metadata": {},
     "output_type": "execute_result"
    }
   ],
   "source": [
    "df[\"Category\"].value_counts()"
   ]
  },
  {
   "cell_type": "code",
   "execution_count": 62,
   "metadata": {},
   "outputs": [
    {
     "name": "stdout",
     "output_type": "stream",
     "text": [
      "Accuracy: 0.91\n"
     ]
    }
   ],
   "source": [
    "import pandas as pd\n",
    "from sklearn.model_selection import train_test_split\n",
    "from sklearn.feature_extraction.text import CountVectorizer\n",
    "from sklearn.naive_bayes import MultinomialNB\n",
    "from sklearn.metrics import accuracy_score\n",
    "\n",
    "# Step 1: Create the DataFrame\n",
    "\n",
    "\n",
    "# Step 2: Split the data into 75% train and 25% test\n",
    "X = df['Question']  # Independent variable (Questions)\n",
    "y = df['Category']  # Dependent variable (Category)\n",
    "\n",
    "X_train, X_test, y_train, y_test = train_test_split(X, y, test_size=0.25, random_state=42)\n",
    "\n",
    "# Step 3: Convert text data to numerical features using CountVectorizer\n",
    "vectorizer = CountVectorizer(stop_words='english')\n",
    "X_train_vectorized = vectorizer.fit_transform(X_train)\n",
    "X_test_vectorized = vectorizer.transform(X_test)\n",
    "\n",
    "# Step 4: Train the Naive Bayes classifier\n",
    "model = MultinomialNB()\n",
    "model.fit(X_train_vectorized, y_train)\n",
    "\n",
    "# Step 5: Make predictions on the test set\n",
    "y_pred = model.predict(X_test_vectorized)\n",
    "\n",
    "# Step 6: Evaluate the model\n",
    "accuracy = accuracy_score(y_test, y_pred)\n",
    "print(f'Accuracy: {accuracy:.2f}')\n"
   ]
  },
  {
   "cell_type": "code",
   "execution_count": 63,
   "metadata": {},
   "outputs": [
    {
     "name": "stdout",
     "output_type": "stream",
     "text": [
      "The question is classified as: Deep learning\n"
     ]
    }
   ],
   "source": [
    "# Step 1: Define your question\n",
    "new_question = [\"\"]\n",
    "\n",
    "# Step 2: Vectorize the question using the same vectorizer\n",
    "new_question_vectorized = vectorizer.transform(new_question)\n",
    "\n",
    "# Step 3: Predict the category\n",
    "predicted_category = model.predict(new_question_vectorized)\n",
    "\n",
    "# Step 4: Output the result\n",
    "print(f\"The question is classified as: {predicted_category[0]}\")\n"
   ]
  },
  {
   "cell_type": "code",
   "execution_count": 64,
   "metadata": {},
   "outputs": [],
   "source": [
    "df_questions=pd.read_csv(\"../ML/alldataparagraph.csv\")"
   ]
  },
  {
   "cell_type": "code",
   "execution_count": 65,
   "metadata": {},
   "outputs": [
    {
     "data": {
      "text/html": [
       "<div>\n",
       "<style scoped>\n",
       "    .dataframe tbody tr th:only-of-type {\n",
       "        vertical-align: middle;\n",
       "    }\n",
       "\n",
       "    .dataframe tbody tr th {\n",
       "        vertical-align: top;\n",
       "    }\n",
       "\n",
       "    .dataframe thead th {\n",
       "        text-align: right;\n",
       "    }\n",
       "</style>\n",
       "<table border=\"1\" class=\"dataframe\">\n",
       "  <thead>\n",
       "    <tr style=\"text-align: right;\">\n",
       "      <th></th>\n",
       "      <th>paragraph</th>\n",
       "    </tr>\n",
       "  </thead>\n",
       "  <tbody>\n",
       "    <tr>\n",
       "      <th>0</th>\n",
       "      <td>electronic or mechanical means (including phot...</td>\n",
       "    </tr>\n",
       "    <tr>\n",
       "      <th>1</th>\n",
       "      <td>Printed and bound in\\nthe United States of Ame...</td>\n",
       "    </tr>\n",
       "    <tr>\n",
       "      <th>2</th>\n",
       "      <td>The link between machine learning and data ana...</td>\n",
       "    </tr>\n",
       "    <tr>\n",
       "      <th>3</th>\n",
       "      <td>The motivation for structuring these technical...</td>\n",
       "    </tr>\n",
       "    <tr>\n",
       "      <th>4</th>\n",
       "      <td>Throughout these technical chapters the link t...</td>\n",
       "    </tr>\n",
       "    <tr>\n",
       "      <th>...</th>\n",
       "      <td>...</td>\n",
       "    </tr>\n",
       "    <tr>\n",
       "      <th>22150</th>\n",
       "      <td>Thus,\\npersistent variables are like global va...</td>\n",
       "    </tr>\n",
       "    <tr>\n",
       "      <th>22151</th>\n",
       "      <td>• Functions as values: Functions and procedure...</td>\n",
       "    </tr>\n",
       "    <tr>\n",
       "      <th>22152</th>\n",
       "      <td>and Visual Basic (which use end). swap two var...</td>\n",
       "    </tr>\n",
       "    <tr>\n",
       "      <th>22153</th>\n",
       "      <td>returns a generator, which in turn yields one ...</td>\n",
       "    </tr>\n",
       "    <tr>\n",
       "      <th>22154</th>\n",
       "      <td>• Sets: {x, y, z} denotes a set of three eleme...</td>\n",
       "    </tr>\n",
       "  </tbody>\n",
       "</table>\n",
       "<p>22155 rows × 1 columns</p>\n",
       "</div>"
      ],
      "text/plain": [
       "                                               paragraph\n",
       "0      electronic or mechanical means (including phot...\n",
       "1      Printed and bound in\\nthe United States of Ame...\n",
       "2      The link between machine learning and data ana...\n",
       "3      The motivation for structuring these technical...\n",
       "4      Throughout these technical chapters the link t...\n",
       "...                                                  ...\n",
       "22150  Thus,\\npersistent variables are like global va...\n",
       "22151  • Functions as values: Functions and procedure...\n",
       "22152  and Visual Basic (which use end). swap two var...\n",
       "22153  returns a generator, which in turn yields one ...\n",
       "22154  • Sets: {x, y, z} denotes a set of three eleme...\n",
       "\n",
       "[22155 rows x 1 columns]"
      ]
     },
     "execution_count": 65,
     "metadata": {},
     "output_type": "execute_result"
    }
   ],
   "source": [
    "df_questions"
   ]
  },
  {
   "cell_type": "code",
   "execution_count": 66,
   "metadata": {},
   "outputs": [
    {
     "name": "stdout",
     "output_type": "stream",
     "text": [
      "Index(['Category', 'Question'], dtype='object')\n"
     ]
    }
   ],
   "source": [
    "print(df.columns)\n"
   ]
  },
  {
   "cell_type": "code",
   "execution_count": 67,
   "metadata": {},
   "outputs": [],
   "source": [
    "df_questions[\"category\"] = df_questions[\"paragraph\"].apply(lambda new_question: model.predict(vectorizer.transform([new_question]))[0] if isinstance(new_question, str) and new_question.strip() else \"Unknown\")\n"
   ]
  },
  {
   "cell_type": "code",
   "execution_count": 68,
   "metadata": {},
   "outputs": [
    {
     "data": {
      "text/html": [
       "<div>\n",
       "<style scoped>\n",
       "    .dataframe tbody tr th:only-of-type {\n",
       "        vertical-align: middle;\n",
       "    }\n",
       "\n",
       "    .dataframe tbody tr th {\n",
       "        vertical-align: top;\n",
       "    }\n",
       "\n",
       "    .dataframe thead th {\n",
       "        text-align: right;\n",
       "    }\n",
       "</style>\n",
       "<table border=\"1\" class=\"dataframe\">\n",
       "  <thead>\n",
       "    <tr style=\"text-align: right;\">\n",
       "      <th></th>\n",
       "      <th>paragraph</th>\n",
       "      <th>category</th>\n",
       "    </tr>\n",
       "  </thead>\n",
       "  <tbody>\n",
       "    <tr>\n",
       "      <th>0</th>\n",
       "      <td>electronic or mechanical means (including phot...</td>\n",
       "      <td>Unsupervised Learning</td>\n",
       "    </tr>\n",
       "    <tr>\n",
       "      <th>1</th>\n",
       "      <td>Printed and bound in\\nthe United States of Ame...</td>\n",
       "      <td>Supervised Learning</td>\n",
       "    </tr>\n",
       "    <tr>\n",
       "      <th>2</th>\n",
       "      <td>The link between machine learning and data ana...</td>\n",
       "      <td>Supervised Learning</td>\n",
       "    </tr>\n",
       "    <tr>\n",
       "      <th>3</th>\n",
       "      <td>The motivation for structuring these technical...</td>\n",
       "      <td>Supervised Learning</td>\n",
       "    </tr>\n",
       "    <tr>\n",
       "      <th>4</th>\n",
       "      <td>Throughout these technical chapters the link t...</td>\n",
       "      <td>Supervised Learning</td>\n",
       "    </tr>\n",
       "    <tr>\n",
       "      <th>...</th>\n",
       "      <td>...</td>\n",
       "      <td>...</td>\n",
       "    </tr>\n",
       "    <tr>\n",
       "      <th>22150</th>\n",
       "      <td>Thus,\\npersistent variables are like global va...</td>\n",
       "      <td>Reinforcement Learning</td>\n",
       "    </tr>\n",
       "    <tr>\n",
       "      <th>22151</th>\n",
       "      <td>• Functions as values: Functions and procedure...</td>\n",
       "      <td>Reinforcement Learning</td>\n",
       "    </tr>\n",
       "    <tr>\n",
       "      <th>22152</th>\n",
       "      <td>and Visual Basic (which use end). swap two var...</td>\n",
       "      <td>Deep learning</td>\n",
       "    </tr>\n",
       "    <tr>\n",
       "      <th>22153</th>\n",
       "      <td>returns a generator, which in turn yields one ...</td>\n",
       "      <td>Reinforcement Learning</td>\n",
       "    </tr>\n",
       "    <tr>\n",
       "      <th>22154</th>\n",
       "      <td>• Sets: {x, y, z} denotes a set of three eleme...</td>\n",
       "      <td>Supervised Learning</td>\n",
       "    </tr>\n",
       "  </tbody>\n",
       "</table>\n",
       "<p>22155 rows × 2 columns</p>\n",
       "</div>"
      ],
      "text/plain": [
       "                                               paragraph  \\\n",
       "0      electronic or mechanical means (including phot...   \n",
       "1      Printed and bound in\\nthe United States of Ame...   \n",
       "2      The link between machine learning and data ana...   \n",
       "3      The motivation for structuring these technical...   \n",
       "4      Throughout these technical chapters the link t...   \n",
       "...                                                  ...   \n",
       "22150  Thus,\\npersistent variables are like global va...   \n",
       "22151  • Functions as values: Functions and procedure...   \n",
       "22152  and Visual Basic (which use end). swap two var...   \n",
       "22153  returns a generator, which in turn yields one ...   \n",
       "22154  • Sets: {x, y, z} denotes a set of three eleme...   \n",
       "\n",
       "                     category  \n",
       "0       Unsupervised Learning  \n",
       "1         Supervised Learning  \n",
       "2         Supervised Learning  \n",
       "3         Supervised Learning  \n",
       "4         Supervised Learning  \n",
       "...                       ...  \n",
       "22150  Reinforcement Learning  \n",
       "22151  Reinforcement Learning  \n",
       "22152           Deep learning  \n",
       "22153  Reinforcement Learning  \n",
       "22154     Supervised Learning  \n",
       "\n",
       "[22155 rows x 2 columns]"
      ]
     },
     "execution_count": 68,
     "metadata": {},
     "output_type": "execute_result"
    }
   ],
   "source": [
    "df_questions"
   ]
  },
  {
   "cell_type": "code",
   "execution_count": 69,
   "metadata": {},
   "outputs": [],
   "source": [
    "import psycopg2\n",
    "\n",
    "DATABASE_CONFIG = {\n",
    "    \"host\": \"localhost\",\n",
    "    \"database\": \"chatbotdata\",\n",
    "    \"user\": \"postgres\",\n",
    "    \"password\": \"Mallesh@123\"\n",
    "}\n",
    "\n",
    "# Connect to the PostgreSQL database\n",
    "conn = psycopg2.connect(**DATABASE_CONFIG)\n",
    "cursor = conn.cursor()\n",
    "\n",
    "\n",
    "        \n",
    "# Commit changes and close connection\n",
    "\n"
   ]
  },
  {
   "cell_type": "code",
   "execution_count": 70,
   "metadata": {},
   "outputs": [
    {
     "name": "stdout",
     "output_type": "stream",
     "text": [
      "['Excellent response, very detailed!', 'Great answer, very helpful!', 'Outstanding explanation, very clear!', 'Superb response, exceeded my expectations!', 'Impressive answer, very informative!', 'Fantastic job! Very comprehensive!', 'Exceptional clarity and depth!', 'Perfectly answered my query!', 'Remarkably insightful and thorough!', 'Top-notch response, very engaging!', 'This is exactly what I was looking for!', 'Incredibly well explained; I appreciate the detail.', 'You made a complex topic easy to understand.', 'Your answer was thorough and well-researched.', 'I’m impressed by the depth of your response.', 'This was extremely helpful; thank you so much!', 'I appreciate the effort you put into this answer.', 'This response is spot on; very informative.', 'You provided excellent examples that clarified everything.', 'Your clarity and detail are greatly appreciated.', 'This is one of the best responses I’ve received.', 'You nailed it! Thank you for such a great answer.', 'I learned a lot from your detailed explanation.', 'Your insights are incredibly valuable; thank you!', 'This was a fantastic answer; very well done!', 'Your thoroughness made all the difference.', 'I appreciate how well you articulated your points.', 'This response exceeded my expectations in every way.', \"You've set a high standard with this answer!\", 'Thank you for making this so easy to understand.', 'Your response gave me exactly what I needed.', 'I can’t thank you enough for this clarity!', 'This was a pleasure to read; so well done!', 'You have a talent for explaining difficult concepts.', 'I appreciate your attention to detail in this response.', 'This was incredibly insightful; I learned so much.', 'Your answer is both comprehensive and concise.', 'I’m very satisfied with the information provided here.', 'This is an exemplary response; well done!', 'You really went above and beyond with this answer.']\n"
     ]
    }
   ],
   "source": [
    "# Very Good (5) Feedback Options\n",
    "very_good_feedback = [\n",
    "    \"Excellent response, very detailed!\",\n",
    "    \"Great answer, very helpful!\",\n",
    "    \"Outstanding explanation, very clear!\",\n",
    "    \"Superb response, exceeded my expectations!\",\n",
    "    \"Impressive answer, very informative!\",\n",
    "    \"Fantastic job! Very comprehensive!\",\n",
    "    \"Exceptional clarity and depth!\",\n",
    "    \"Perfectly answered my query!\",\n",
    "    \"Remarkably insightful and thorough!\",\n",
    "    \"Top-notch response, very engaging!\",\n",
    "    \"This is exactly what I was looking for!\",\n",
    "    \"Incredibly well explained; I appreciate the detail.\",\n",
    "    \"You made a complex topic easy to understand.\",\n",
    "    \"Your answer was thorough and well-researched.\",\n",
    "    \"I’m impressed by the depth of your response.\",\n",
    "    \"This was extremely helpful; thank you so much!\",\n",
    "    \"I appreciate the effort you put into this answer.\",\n",
    "    \"This response is spot on; very informative.\",\n",
    "    \"You provided excellent examples that clarified everything.\",\n",
    "    \"Your clarity and detail are greatly appreciated.\",\n",
    "    \"This is one of the best responses I’ve received.\",\n",
    "    \"You nailed it! Thank you for such a great answer.\",\n",
    "    \"I learned a lot from your detailed explanation.\",\n",
    "    \"Your insights are incredibly valuable; thank you!\",\n",
    "    \"This was a fantastic answer; very well done!\",\n",
    "    \"Your thoroughness made all the difference.\",\n",
    "    \"I appreciate how well you articulated your points.\",\n",
    "    \"This response exceeded my expectations in every way.\",\n",
    "    \"You've set a high standard with this answer!\",\n",
    "    \"Thank you for making this so easy to understand.\",\n",
    "    \"Your response gave me exactly what I needed.\",\n",
    "    \"I can’t thank you enough for this clarity!\",\n",
    "    \"This was a pleasure to read; so well done!\",\n",
    "    \"You have a talent for explaining difficult concepts.\",\n",
    "    \"I appreciate your attention to detail in this response.\",\n",
    "    \"This was incredibly insightful; I learned so much.\",\n",
    "    \"Your answer is both comprehensive and concise.\",\n",
    "    \"I’m very satisfied with the information provided here.\",\n",
    "    \"This is an exemplary response; well done!\",\n",
    "    \"You really went above and beyond with this answer.\"\n",
    "]\n",
    "\n",
    "# Good (4) Feedback Options\n",
    "good_feedback = [\n",
    "    \"Good response, but could use more examples.\",\n",
    "    \"Helpful answer, well-structured!\",\n",
    "    \"Clear explanation, but a bit brief.\",\n",
    "    \"Solid response, but some details were missing.\",\n",
    "    \"Well done! A few more insights would be great.\",\n",
    "    \"Quite informative; just what I needed!\",\n",
    "    \"Good job! A bit more detail would help.\",\n",
    "    \"Helpful overall; minor improvements needed.\",\n",
    "    \"Well articulated; appreciated the effort!\",\n",
    "    \"Nice work! Could include more examples.\",\n",
    "\n",
    "     # Additional Good Feedback Options\n",
    "     \"This was a solid effort; I appreciate it.\",\n",
    "     \"Good information overall; just needs some expansion.\",\n",
    "     \"Helpful and relevant; thanks for the effort.\",\n",
    "     \"A good start, but could be enhanced with more details.\",\n",
    "     \"I found this quite useful; good job!\",\n",
    "     \"The structure of your answer is commendable.\",\n",
    "     \"You provided some valuable insights here.\",\n",
    "     \"I appreciate your clear writing style.\",\n",
    "     \"This was a nice balance of detail and clarity.\",\n",
    "     \"Good content; I’d like to see more examples next time.\",\n",
    "\n",
    "     # More Good Feedback Options\n",
    "     \"Well done! Just needs a bit more depth.\",\n",
    "     \"Informative and relevant; I appreciate it!\",\n",
    "     \"A good attempt at answering my question.\",\n",
    "     \"The information was useful, though slightly lacking.\",\n",
    "     \"Overall good quality; minor tweaks would help.\",\n",
    "     \"I liked the approach you took in this response.\",\n",
    "     \"Good job on providing some key points.\",\n",
    "     \"Helpful content that met my needs adequately.\",\n",
    "     \"A solid response that could be even better with more detail.\",\n",
    "     \"Thank you for your efforts; this was quite good.\"\n",
    "]\n",
    "\n",
    "# Average (3) Feedback Options\n",
    "average_feedback = [\n",
    "    \"Average response, nothing special.\",\n",
    "    \"Decent answer, but lacks depth.\",\n",
    "    \"Okay explanation, needs more clarity.\",\n",
    "    \"Satisfactory response, but could be improved.\",\n",
    "    \"Mediocre answer, could use more detail.\",\n",
    "    \"Response was okay; not what I was hoping for.\",\n",
    "    \"Average quality; needs improvement in clarity.\",\n",
    "    \"Fairly useful; could have been more detailed.\",\n",
    "    \"Just alright; didn't fully address my concerns.\",\n",
    "    \"Neutral feedback; it met basic expectations.\",\n",
    "\n",
    "     # Additional Average Feedback Options\n",
    "     \"This was an average attempt at answering my question.\",\n",
    "     \"Not bad, but I expected a bit more depth.\",    \n",
    "     'The information provided is somewhat useful.',\n",
    "     'It’s okay; I think it could be clearer.',\n",
    "     'The response was adequate but not impressive.',\n",
    "     'Some parts were helpful while others were lacking.',\n",
    "     'It served its purpose but didn’t exceed expectations.',\n",
    "     'A fair effort overall; just needs some refinement.',\n",
    "     'It’s a decent start but feels incomplete.',\n",
    "     'The content is satisfactory but lacks engagement.',\n",
    "\n",
    "     # More Average Feedback Options\n",
    "     'It’s an acceptable response but not particularly memorable.',\n",
    "     'The answer meets basic needs but lacks depth.',\n",
    "     'Could use some additional context or examples.',\n",
    "     'It’s fine, though I hoped for something richer.',\n",
    "     'There’s potential here, but it feels underdeveloped.',\n",
    "     'The explanation is okay but could be clearer in parts.',\n",
    "     'Just an average reply that didn’t stand out much.',\n",
    "     'It’s serviceable but not particularly insightful.',\n",
    "     'There’s room for improvement in clarity and detail.',\n",
    "     'Overall it’s satisfactory but not remarkable.'\n",
    "]\n",
    "\n",
    "# Below Average (2) Feedback Options\n",
    "below_average_feedback = [\n",
    "   'The explanation could be clearer.',\n",
    "   'Not very helpful; I expected more.',\n",
    "   'Somewhat confusing; needs better organization.',\n",
    "   'Response was too vague for my needs.',\n",
    "   'Lacked sufficient detail; I need more information.',\n",
    "   'Not very informative; lacking substance.',\n",
    "   'Could use significant improvement in clarity.',\n",
    "   'Response felt rushed and incomplete.',\n",
    "   'Somewhat disappointing; not what I expected.',\n",
    "   'Lacked coherence and focus.',\n",
    "\n",
    "   # Additional Below Average Feedback Options\n",
    "   'This didn’t meet my expectations at all.',\n",
    "   'The information provided was too superficial.',\n",
    "   'I found this quite confusing overall.',\n",
    "   'It feels like there are gaps in the explanation.',\n",
    "   'There’s a lack of clarity in your points.',\n",
    "   'Too many assumptions were made in this response.',\n",
    "   'The structure of the answer is lacking coherence.',\n",
    "   'I need more context to understand this better.',\n",
    "   'It didn’t really help me solve my issue.',\n",
    "   'More examples would have clarified things greatly.',\n",
    "\n",
    "   # More Below Average Feedback Options\n",
    "   'The content seems incomplete or half-hearted.',\n",
    "   'There are too many vague statements here.',\n",
    "   'It feels like a generic response without specifics.',\n",
    "   'Some parts were unclear and hard to follow.',\n",
    "   'Not enough detail to be truly helpful.',\n",
    "   'I struggled to find value in this answer.',\n",
    "   'There’s a disconnect between my question and your reply.',\n",
    "   'It seems like there wasn’t much thought put into this.',\n",
    "   'The explanations need significant improvement.',\n",
    "   'Overall, it left me wanting more clarity.'\n",
    "]\n",
    "\n",
    "# Bad (1) Feedback Options\n",
    "bad_feedback = [\n",
    "  'Not satisfied with the response.',\n",
    "  'Very poor answer; didn’t address my question.',\n",
    "  'Confusing and unclear; not helpful at all.',\n",
    "  'Inaccurate information provided in the response.',\n",
    "  'Disappointing; I expected a better explanation.',\n",
    "  'Very unsatisfactory; didn’t help at all.',\n",
    "  'Extremely poor quality; irrelevant information.',\n",
    "  'Completely missed the point of my question.',\n",
    "  'Terrible response; I need a refund on my time!',\n",
    "  'Unhelpful and frustrating experience.',\n",
    "\n",
    "  # Additional Bad Feedback Options\n",
    "  '\"This was completely unhelpful and off-topic.\"',\n",
    "  '\"The information provided was incorrect and misleading.\"',\n",
    "  '\"I found this response to be very frustrating to read.\"',\n",
    "  '\"It seems like no effort was put into this answer at all.\"',\n",
    "  '\"This doesn’t address my question in any meaningful way.\"',\n",
    "  '\"I can’t believe how uninformative this was!\"',\n",
    "  '\"Very disappointed with the lack of detail here.\"',\n",
    "  '\"This response is not relevant to my query whatsoever.\"',\n",
    "  '\"I expected much better than this poor quality answer.\"',\n",
    "  '\"The lack of clarity made this response useless to me.\"',\n",
    "\n",
    "  # More Bad Feedback Options\n",
    "  '\"This answer is completely inadequate for my needs.\"',\n",
    "  '\"I feel like I wasted my time reading this response.\"',\n",
    "  '\"The content was irrelevant and not helpful at all.\"',\n",
    "  '\"I found this answer to be quite misleading overall.\"',\n",
    "  '\"This is one of the worst responses I’ve received!\"',\n",
    "  '\"There are too many inaccuracies in this information.\"',\n",
    "  '\"I didn’t learn anything useful from this answer at all.\"',\n",
    "  '\"The tone of this response is off-putting and unprofessional.\"',\n",
    "  '\"This was a frustrating experience; I need better answers!\"',\n",
    "\n",
    "  # Continuing with more Bad Feedback Options\n",
    "  '\"This feels like a waste of time.\"',\n",
    "  '\"I expected a lot more from this interaction.\"',\n",
    "  '\"The chatbot seems confused about the topic.\"',\n",
    "  '\"This is not what I asked for at all.\"',\n",
    "  '\"Very disappointing service overall.\"',\n",
    "  '\"I would rate this lower if possible.\"',\n",
    "  '\"The chatbot didn’t understand my question.\"',\n",
    "  '\"I’m left with more questions than answers.\"',\n",
    "\n",
    " # Final set of Bad Feedback Options\n",
    " '\"This feels like a generic response with no thought.\"',\n",
    " '\"Very little effort went into crafting this reply.\"',\n",
    " '\"I can’t rely on this information at all.\"',\n",
    " '\"This was a complete miss regarding my inquiry.\"',\n",
    " '\"I’m unhappy with how vague this answer is.\"',\n",
    " '\"There’s no way I can use this information.\"',\n",
    "\n",
    " '\"I feel ignored with such a poor reply.\"',\n",
    " '\"This lacks any real substance or value.\"',\n",
    " '\"The chatbot’s performance here is unacceptable.\"',\n",
    " '\"This doesn’t even come close to answering my question.\"',\n",
    " '\"Extremely disappointed with the lack of insight.\"',\n",
    " '\"There’s nothing useful in this response whatsoever.\"'\n",
    " \n",
    "]\n",
    "\n",
    "# Example of accessing feedback options\n",
    "print(very_good_feedback)  # Prints all Very Good feedback options"
   ]
  },
  {
   "cell_type": "code",
   "execution_count": 71,
   "metadata": {},
   "outputs": [],
   "source": [
    "usernames=[]\n",
    "s=\"user\"\n",
    "\n",
    "for i in range(50):\n",
    "    w=s+str(i)\n",
    "    usernames.append(w)"
   ]
  },
  {
   "cell_type": "code",
   "execution_count": 72,
   "metadata": {},
   "outputs": [
    {
     "data": {
      "text/plain": [
       "['user0',\n",
       " 'user1',\n",
       " 'user2',\n",
       " 'user3',\n",
       " 'user4',\n",
       " 'user5',\n",
       " 'user6',\n",
       " 'user7',\n",
       " 'user8',\n",
       " 'user9',\n",
       " 'user10',\n",
       " 'user11',\n",
       " 'user12',\n",
       " 'user13',\n",
       " 'user14',\n",
       " 'user15',\n",
       " 'user16',\n",
       " 'user17',\n",
       " 'user18',\n",
       " 'user19',\n",
       " 'user20',\n",
       " 'user21',\n",
       " 'user22',\n",
       " 'user23',\n",
       " 'user24',\n",
       " 'user25',\n",
       " 'user26',\n",
       " 'user27',\n",
       " 'user28',\n",
       " 'user29',\n",
       " 'user30',\n",
       " 'user31',\n",
       " 'user32',\n",
       " 'user33',\n",
       " 'user34',\n",
       " 'user35',\n",
       " 'user36',\n",
       " 'user37',\n",
       " 'user38',\n",
       " 'user39',\n",
       " 'user40',\n",
       " 'user41',\n",
       " 'user42',\n",
       " 'user43',\n",
       " 'user44',\n",
       " 'user45',\n",
       " 'user46',\n",
       " 'user47',\n",
       " 'user48',\n",
       " 'user49']"
      ]
     },
     "execution_count": 72,
     "metadata": {},
     "output_type": "execute_result"
    }
   ],
   "source": [
    "usernames"
   ]
  },
  {
   "cell_type": "code",
   "execution_count": 73,
   "metadata": {},
   "outputs": [
    {
     "data": {
      "text/plain": [
       "'Supervised Learning'"
      ]
     },
     "execution_count": 73,
     "metadata": {},
     "output_type": "execute_result"
    }
   ],
   "source": [
    "a=df.iloc[50]\n",
    "a.Question\n",
    "a.Category"
   ]
  },
  {
   "cell_type": "code",
   "execution_count": 74,
   "metadata": {},
   "outputs": [],
   "source": [
    "import random\n",
    "from datetime import datetime, timedelta"
   ]
  },
  {
   "cell_type": "code",
   "execution_count": 75,
   "metadata": {},
   "outputs": [],
   "source": [
    "def generate_date():\n",
    "    start_date = datetime(2022, 1, 1)\n",
    "    end_date = datetime(2024, 12, 1)\n",
    "    return start_date + timedelta(days=random.randint(0, (end_date - start_date).days))\n",
    "\n",
    "for i in range(500):\n",
    "    cursor.execute(\"\"\"create table  if not exists chat (\n",
    "               username text,\n",
    "               question text,\n",
    "               feedback text,\n",
    "               feedbackstars INT,\n",
    "               category text,\n",
    "               date Date);\n",
    "\n",
    "               \"\"\")\n",
    "    usn=random.choice(usernames)\n",
    "    qc=df.iloc[random.randint(1,1000)]\n",
    "    question=qc.Question\n",
    "    catagory=qc.Category\n",
    "    star=random.choice([1,2,3,4,5])\n",
    "    Date=generate_date()\n",
    "    # feedbackstar=3\n",
    "    d={1:bad_feedback,2:below_average_feedback,3:average_feedback,4:good_feedback,5:very_good_feedback}\n",
    "    feedbacklst=d[star]\n",
    "    feedback=random.choice(feedbacklst)\n",
    "    cursor.execute(\"\"\"\n",
    "            INSERT INTO chat (username, question, feedback, feedbackstars, category, date)\n",
    "            VALUES (%s, %s, %s, %s, %s, %s);\n",
    "        \"\"\", (usn, question, feedback, star, catagory, Date))\n",
    "    conn.commit()\n",
    "def generate_date():\n",
    "    start_date = datetime(2022, 1, 1)\n",
    "    end_date = datetime(2024, 12, 1)\n",
    "    return start_date + timedelta(days=random.randint(0, (end_date - start_date).days))\n",
    "\n",
    "\n",
    "cursor.close()\n",
    "conn.close()\n"
   ]
  },
  {
   "cell_type": "code",
   "execution_count": 76,
   "metadata": {},
   "outputs": [
    {
     "name": "stderr",
     "output_type": "stream",
     "text": [
      "C:\\Users\\lenovo\\AppData\\Local\\Temp\\ipykernel_454516\\3525199824.py:19: UserWarning: pandas only supports SQLAlchemy connectable (engine/connection) or database string URI or sqlite3 DBAPI2 connection. Other DBAPI2 objects are not tested. Please consider using SQLAlchemy.\n",
      "  df_user = pd.read_sql(query, conn)\n"
     ]
    }
   ],
   "source": [
    "import pandas as pd\n",
    "import psycopg2\n",
    "\n",
    "# Database connection configuration\n",
    "DATABASE_CONFIG = {\n",
    "    \"host\": \"localhost\",\n",
    "    \"database\": \"chatbotdata\",\n",
    "    \"user\": \"postgres\",\n",
    "    \"password\": \"Mallesh@123\"\n",
    "}\n",
    "\n",
    "# Connect to the database\n",
    "conn = psycopg2.connect(**DATABASE_CONFIG)\n",
    "\n",
    "# Query to retrieve data from the chat table\n",
    "query = \"SELECT * FROM chat;\"\n",
    "\n",
    "# Load data into pandas DataFrame\n",
    "df_user = pd.read_sql(query, conn)\n",
    "\n",
    "# Close the connection\n",
    "conn.close()\n",
    "\n",
    "# Display the first few rows of the DataFrame\n",
    "\n"
   ]
  },
  {
   "cell_type": "code",
   "execution_count": 77,
   "metadata": {},
   "outputs": [
    {
     "data": {
      "text/html": [
       "<div>\n",
       "<style scoped>\n",
       "    .dataframe tbody tr th:only-of-type {\n",
       "        vertical-align: middle;\n",
       "    }\n",
       "\n",
       "    .dataframe tbody tr th {\n",
       "        vertical-align: top;\n",
       "    }\n",
       "\n",
       "    .dataframe thead th {\n",
       "        text-align: right;\n",
       "    }\n",
       "</style>\n",
       "<table border=\"1\" class=\"dataframe\">\n",
       "  <thead>\n",
       "    <tr style=\"text-align: right;\">\n",
       "      <th></th>\n",
       "      <th>username</th>\n",
       "      <th>question</th>\n",
       "      <th>feedback</th>\n",
       "      <th>feedbackstars</th>\n",
       "      <th>category</th>\n",
       "      <th>date</th>\n",
       "    </tr>\n",
       "  </thead>\n",
       "  <tbody>\n",
       "    <tr>\n",
       "      <th>0</th>\n",
       "      <td>user41</td>\n",
       "      <td>How does robust PCA handle outliers in unsuper...</td>\n",
       "      <td>A good attempt at answering my question.</td>\n",
       "      <td>4</td>\n",
       "      <td>Unsupervised Learning</td>\n",
       "      <td>2023-06-10</td>\n",
       "    </tr>\n",
       "    <tr>\n",
       "      <th>1</th>\n",
       "      <td>user20</td>\n",
       "      <td>How do you implement advanced outlier detectio...</td>\n",
       "      <td>Lacked coherence and focus.</td>\n",
       "      <td>2</td>\n",
       "      <td>Unsupervised Learning</td>\n",
       "      <td>2023-01-22</td>\n",
       "    </tr>\n",
       "    <tr>\n",
       "      <th>2</th>\n",
       "      <td>user35</td>\n",
       "      <td>What are the key considerations in data normal...</td>\n",
       "      <td>Overall it’s satisfactory but not remarkable.</td>\n",
       "      <td>3</td>\n",
       "      <td>Unsupervised Learning</td>\n",
       "      <td>2023-02-22</td>\n",
       "    </tr>\n",
       "    <tr>\n",
       "      <th>3</th>\n",
       "      <td>user19</td>\n",
       "      <td>What is the importance of interpretability in ...</td>\n",
       "      <td>Average quality; needs improvement in clarity.</td>\n",
       "      <td>3</td>\n",
       "      <td>Reinforcement Learning</td>\n",
       "      <td>2023-12-16</td>\n",
       "    </tr>\n",
       "    <tr>\n",
       "      <th>4</th>\n",
       "      <td>user12</td>\n",
       "      <td>What are the statistical foundations of data c...</td>\n",
       "      <td>Top-notch response, very engaging!</td>\n",
       "      <td>5</td>\n",
       "      <td>Unsupervised Learning</td>\n",
       "      <td>2023-01-29</td>\n",
       "    </tr>\n",
       "    <tr>\n",
       "      <th>...</th>\n",
       "      <td>...</td>\n",
       "      <td>...</td>\n",
       "      <td>...</td>\n",
       "      <td>...</td>\n",
       "      <td>...</td>\n",
       "      <td>...</td>\n",
       "    </tr>\n",
       "    <tr>\n",
       "      <th>495</th>\n",
       "      <td>user22</td>\n",
       "      <td>\"How do you apply RL to healthcare decision-m...</td>\n",
       "      <td>Okay explanation, needs more clarity.</td>\n",
       "      <td>3</td>\n",
       "      <td>Reinforcement Learning</td>\n",
       "      <td>2023-03-02</td>\n",
       "    </tr>\n",
       "    <tr>\n",
       "      <th>496</th>\n",
       "      <td>user5</td>\n",
       "      <td>How can feature selection impact the performan...</td>\n",
       "      <td>It didn’t really help me solve my issue.</td>\n",
       "      <td>2</td>\n",
       "      <td>Unsupervised Learning</td>\n",
       "      <td>2023-02-28</td>\n",
       "    </tr>\n",
       "    <tr>\n",
       "      <th>497</th>\n",
       "      <td>user25</td>\n",
       "      <td>How do you implement Q-learning in Python?</td>\n",
       "      <td>I need more context to understand this better.</td>\n",
       "      <td>2</td>\n",
       "      <td>Reinforcement Learning</td>\n",
       "      <td>2024-07-02</td>\n",
       "    </tr>\n",
       "    <tr>\n",
       "      <th>498</th>\n",
       "      <td>user30</td>\n",
       "      <td>How do agents learn in environments with parti...</td>\n",
       "      <td>Somewhat confusing; needs better organization.</td>\n",
       "      <td>2</td>\n",
       "      <td>Reinforcement Learning</td>\n",
       "      <td>2022-04-25</td>\n",
       "    </tr>\n",
       "    <tr>\n",
       "      <th>499</th>\n",
       "      <td>user24</td>\n",
       "      <td>\"How can you leverage transfer between tasks ...</td>\n",
       "      <td>Your answer was thorough and well-researched.</td>\n",
       "      <td>5</td>\n",
       "      <td>Reinforcement Learning</td>\n",
       "      <td>2024-05-14</td>\n",
       "    </tr>\n",
       "  </tbody>\n",
       "</table>\n",
       "<p>500 rows × 6 columns</p>\n",
       "</div>"
      ],
      "text/plain": [
       "    username                                           question  \\\n",
       "0     user41  How does robust PCA handle outliers in unsuper...   \n",
       "1     user20  How do you implement advanced outlier detectio...   \n",
       "2     user35  What are the key considerations in data normal...   \n",
       "3     user19  What is the importance of interpretability in ...   \n",
       "4     user12  What are the statistical foundations of data c...   \n",
       "..       ...                                                ...   \n",
       "495   user22   \"How do you apply RL to healthcare decision-m...   \n",
       "496    user5  How can feature selection impact the performan...   \n",
       "497   user25         How do you implement Q-learning in Python?   \n",
       "498   user30  How do agents learn in environments with parti...   \n",
       "499   user24   \"How can you leverage transfer between tasks ...   \n",
       "\n",
       "                                           feedback  feedbackstars  \\\n",
       "0          A good attempt at answering my question.              4   \n",
       "1                       Lacked coherence and focus.              2   \n",
       "2     Overall it’s satisfactory but not remarkable.              3   \n",
       "3    Average quality; needs improvement in clarity.              3   \n",
       "4                Top-notch response, very engaging!              5   \n",
       "..                                              ...            ...   \n",
       "495           Okay explanation, needs more clarity.              3   \n",
       "496        It didn’t really help me solve my issue.              2   \n",
       "497  I need more context to understand this better.              2   \n",
       "498  Somewhat confusing; needs better organization.              2   \n",
       "499   Your answer was thorough and well-researched.              5   \n",
       "\n",
       "                   category        date  \n",
       "0     Unsupervised Learning  2023-06-10  \n",
       "1     Unsupervised Learning  2023-01-22  \n",
       "2     Unsupervised Learning  2023-02-22  \n",
       "3    Reinforcement Learning  2023-12-16  \n",
       "4     Unsupervised Learning  2023-01-29  \n",
       "..                      ...         ...  \n",
       "495  Reinforcement Learning  2023-03-02  \n",
       "496   Unsupervised Learning  2023-02-28  \n",
       "497  Reinforcement Learning  2024-07-02  \n",
       "498  Reinforcement Learning  2022-04-25  \n",
       "499  Reinforcement Learning  2024-05-14  \n",
       "\n",
       "[500 rows x 6 columns]"
      ]
     },
     "execution_count": 77,
     "metadata": {},
     "output_type": "execute_result"
    }
   ],
   "source": [
    "df_user"
   ]
  },
  {
   "cell_type": "markdown",
   "metadata": {},
   "source": [
    "Unsupervised Learning ,Supervised Learning ,Reinforcement Learning ,Semi-Supervised Learning    24"
   ]
  },
  {
   "cell_type": "code",
   "execution_count": null,
   "metadata": {},
   "outputs": [],
   "source": []
  },
  {
   "cell_type": "code",
   "execution_count": 78,
   "metadata": {},
   "outputs": [
    {
     "data": {
      "text/plain": [
       "'Unsupervised Learning, Supervised Learning, Reinforcement Learning, Semi-Supervised Learning'"
      ]
     },
     "execution_count": 78,
     "metadata": {},
     "output_type": "execute_result"
    }
   ],
   "source": [
    "\"Unsupervised Learning, Supervised Learning, Reinforcement Learning, Semi-Supervised Learning\"   "
   ]
  },
  {
   "cell_type": "code",
   "execution_count": 79,
   "metadata": {},
   "outputs": [
    {
     "data": {
      "text/plain": [
       "category\n",
       "Unsupervised Learning       172\n",
       "Reinforcement Learning      146\n",
       "Supervised Learning         134\n",
       "Semi-Supervised Learning     45\n",
       "Topic                         2\n",
       "Category                      1\n",
       "Name: count, dtype: int64"
      ]
     },
     "execution_count": 79,
     "metadata": {},
     "output_type": "execute_result"
    }
   ],
   "source": [
    "df_user[\"category\"].value_counts()"
   ]
  },
  {
   "cell_type": "code",
   "execution_count": 80,
   "metadata": {},
   "outputs": [
    {
     "data": {
      "text/html": [
       "<div>\n",
       "<style scoped>\n",
       "    .dataframe tbody tr th:only-of-type {\n",
       "        vertical-align: middle;\n",
       "    }\n",
       "\n",
       "    .dataframe tbody tr th {\n",
       "        vertical-align: top;\n",
       "    }\n",
       "\n",
       "    .dataframe thead th {\n",
       "        text-align: right;\n",
       "    }\n",
       "</style>\n",
       "<table border=\"1\" class=\"dataframe\">\n",
       "  <thead>\n",
       "    <tr style=\"text-align: right;\">\n",
       "      <th></th>\n",
       "      <th></th>\n",
       "      <th>feedbackstars</th>\n",
       "    </tr>\n",
       "    <tr>\n",
       "      <th>category</th>\n",
       "      <th>username</th>\n",
       "      <th></th>\n",
       "    </tr>\n",
       "  </thead>\n",
       "  <tbody>\n",
       "    <tr>\n",
       "      <th>Category</th>\n",
       "      <th>user3</th>\n",
       "      <td>3.00</td>\n",
       "    </tr>\n",
       "    <tr>\n",
       "      <th rowspan=\"4\" valign=\"top\">Reinforcement Learning</th>\n",
       "      <th>user0</th>\n",
       "      <td>4.00</td>\n",
       "    </tr>\n",
       "    <tr>\n",
       "      <th>user1</th>\n",
       "      <td>3.40</td>\n",
       "    </tr>\n",
       "    <tr>\n",
       "      <th>user10</th>\n",
       "      <td>3.00</td>\n",
       "    </tr>\n",
       "    <tr>\n",
       "      <th>user11</th>\n",
       "      <td>2.00</td>\n",
       "    </tr>\n",
       "    <tr>\n",
       "      <th>...</th>\n",
       "      <th>...</th>\n",
       "      <td>...</td>\n",
       "    </tr>\n",
       "    <tr>\n",
       "      <th rowspan=\"5\" valign=\"top\">Unsupervised Learning</th>\n",
       "      <th>user5</th>\n",
       "      <td>1.75</td>\n",
       "    </tr>\n",
       "    <tr>\n",
       "      <th>user6</th>\n",
       "      <td>4.00</td>\n",
       "    </tr>\n",
       "    <tr>\n",
       "      <th>user7</th>\n",
       "      <td>3.75</td>\n",
       "    </tr>\n",
       "    <tr>\n",
       "      <th>user8</th>\n",
       "      <td>4.00</td>\n",
       "    </tr>\n",
       "    <tr>\n",
       "      <th>user9</th>\n",
       "      <td>4.50</td>\n",
       "    </tr>\n",
       "  </tbody>\n",
       "</table>\n",
       "<p>175 rows × 1 columns</p>\n",
       "</div>"
      ],
      "text/plain": [
       "                                 feedbackstars\n",
       "category               username               \n",
       "Category               user3              3.00\n",
       "Reinforcement Learning user0              4.00\n",
       "                       user1              3.40\n",
       "                       user10             3.00\n",
       "                       user11             2.00\n",
       "...                                        ...\n",
       "Unsupervised Learning  user5              1.75\n",
       "                       user6              4.00\n",
       "                       user7              3.75\n",
       "                       user8              4.00\n",
       "                       user9              4.50\n",
       "\n",
       "[175 rows x 1 columns]"
      ]
     },
     "execution_count": 80,
     "metadata": {},
     "output_type": "execute_result"
    }
   ],
   "source": [
    "def select_numeric_columns(group):\n",
    "    return group.select_dtypes(include='number').agg('mean')\n",
    "\n",
    "grouped_df = df_user.groupby([\"category\",\"username\"])\n",
    "grouped_df.apply(select_numeric_columns)# from this we come know about the avarage satisfaction so that which catgory lags we can add data or make efficient\n",
    "     "
   ]
  },
  {
   "cell_type": "code",
   "execution_count": 81,
   "metadata": {},
   "outputs": [],
   "source": [
    "grouped_df = df_user.groupby([\"username\"])\n",
    "user_avg_score=grouped_df.apply(select_numeric_columns)"
   ]
  },
  {
   "cell_type": "code",
   "execution_count": 82,
   "metadata": {},
   "outputs": [
    {
     "data": {
      "text/html": [
       "<div>\n",
       "<style scoped>\n",
       "    .dataframe tbody tr th:only-of-type {\n",
       "        vertical-align: middle;\n",
       "    }\n",
       "\n",
       "    .dataframe tbody tr th {\n",
       "        vertical-align: top;\n",
       "    }\n",
       "\n",
       "    .dataframe thead th {\n",
       "        text-align: right;\n",
       "    }\n",
       "</style>\n",
       "<table border=\"1\" class=\"dataframe\">\n",
       "  <thead>\n",
       "    <tr style=\"text-align: right;\">\n",
       "      <th></th>\n",
       "      <th>username</th>\n",
       "      <th>question</th>\n",
       "      <th>feedback</th>\n",
       "      <th>feedbackstars</th>\n",
       "      <th>category</th>\n",
       "      <th>date</th>\n",
       "    </tr>\n",
       "  </thead>\n",
       "  <tbody>\n",
       "    <tr>\n",
       "      <th>0</th>\n",
       "      <td>user41</td>\n",
       "      <td>How does robust PCA handle outliers in unsuper...</td>\n",
       "      <td>A good attempt at answering my question.</td>\n",
       "      <td>4</td>\n",
       "      <td>Unsupervised Learning</td>\n",
       "      <td>2023-06-10</td>\n",
       "    </tr>\n",
       "    <tr>\n",
       "      <th>1</th>\n",
       "      <td>user20</td>\n",
       "      <td>How do you implement advanced outlier detectio...</td>\n",
       "      <td>Lacked coherence and focus.</td>\n",
       "      <td>2</td>\n",
       "      <td>Unsupervised Learning</td>\n",
       "      <td>2023-01-22</td>\n",
       "    </tr>\n",
       "    <tr>\n",
       "      <th>2</th>\n",
       "      <td>user35</td>\n",
       "      <td>What are the key considerations in data normal...</td>\n",
       "      <td>Overall it’s satisfactory but not remarkable.</td>\n",
       "      <td>3</td>\n",
       "      <td>Unsupervised Learning</td>\n",
       "      <td>2023-02-22</td>\n",
       "    </tr>\n",
       "    <tr>\n",
       "      <th>3</th>\n",
       "      <td>user19</td>\n",
       "      <td>What is the importance of interpretability in ...</td>\n",
       "      <td>Average quality; needs improvement in clarity.</td>\n",
       "      <td>3</td>\n",
       "      <td>Reinforcement Learning</td>\n",
       "      <td>2023-12-16</td>\n",
       "    </tr>\n",
       "    <tr>\n",
       "      <th>4</th>\n",
       "      <td>user12</td>\n",
       "      <td>What are the statistical foundations of data c...</td>\n",
       "      <td>Top-notch response, very engaging!</td>\n",
       "      <td>5</td>\n",
       "      <td>Unsupervised Learning</td>\n",
       "      <td>2023-01-29</td>\n",
       "    </tr>\n",
       "    <tr>\n",
       "      <th>...</th>\n",
       "      <td>...</td>\n",
       "      <td>...</td>\n",
       "      <td>...</td>\n",
       "      <td>...</td>\n",
       "      <td>...</td>\n",
       "      <td>...</td>\n",
       "    </tr>\n",
       "    <tr>\n",
       "      <th>495</th>\n",
       "      <td>user22</td>\n",
       "      <td>\"How do you apply RL to healthcare decision-m...</td>\n",
       "      <td>Okay explanation, needs more clarity.</td>\n",
       "      <td>3</td>\n",
       "      <td>Reinforcement Learning</td>\n",
       "      <td>2023-03-02</td>\n",
       "    </tr>\n",
       "    <tr>\n",
       "      <th>496</th>\n",
       "      <td>user5</td>\n",
       "      <td>How can feature selection impact the performan...</td>\n",
       "      <td>It didn’t really help me solve my issue.</td>\n",
       "      <td>2</td>\n",
       "      <td>Unsupervised Learning</td>\n",
       "      <td>2023-02-28</td>\n",
       "    </tr>\n",
       "    <tr>\n",
       "      <th>497</th>\n",
       "      <td>user25</td>\n",
       "      <td>How do you implement Q-learning in Python?</td>\n",
       "      <td>I need more context to understand this better.</td>\n",
       "      <td>2</td>\n",
       "      <td>Reinforcement Learning</td>\n",
       "      <td>2024-07-02</td>\n",
       "    </tr>\n",
       "    <tr>\n",
       "      <th>498</th>\n",
       "      <td>user30</td>\n",
       "      <td>How do agents learn in environments with parti...</td>\n",
       "      <td>Somewhat confusing; needs better organization.</td>\n",
       "      <td>2</td>\n",
       "      <td>Reinforcement Learning</td>\n",
       "      <td>2022-04-25</td>\n",
       "    </tr>\n",
       "    <tr>\n",
       "      <th>499</th>\n",
       "      <td>user24</td>\n",
       "      <td>\"How can you leverage transfer between tasks ...</td>\n",
       "      <td>Your answer was thorough and well-researched.</td>\n",
       "      <td>5</td>\n",
       "      <td>Reinforcement Learning</td>\n",
       "      <td>2024-05-14</td>\n",
       "    </tr>\n",
       "  </tbody>\n",
       "</table>\n",
       "<p>500 rows × 6 columns</p>\n",
       "</div>"
      ],
      "text/plain": [
       "    username                                           question  \\\n",
       "0     user41  How does robust PCA handle outliers in unsuper...   \n",
       "1     user20  How do you implement advanced outlier detectio...   \n",
       "2     user35  What are the key considerations in data normal...   \n",
       "3     user19  What is the importance of interpretability in ...   \n",
       "4     user12  What are the statistical foundations of data c...   \n",
       "..       ...                                                ...   \n",
       "495   user22   \"How do you apply RL to healthcare decision-m...   \n",
       "496    user5  How can feature selection impact the performan...   \n",
       "497   user25         How do you implement Q-learning in Python?   \n",
       "498   user30  How do agents learn in environments with parti...   \n",
       "499   user24   \"How can you leverage transfer between tasks ...   \n",
       "\n",
       "                                           feedback  feedbackstars  \\\n",
       "0          A good attempt at answering my question.              4   \n",
       "1                       Lacked coherence and focus.              2   \n",
       "2     Overall it’s satisfactory but not remarkable.              3   \n",
       "3    Average quality; needs improvement in clarity.              3   \n",
       "4                Top-notch response, very engaging!              5   \n",
       "..                                              ...            ...   \n",
       "495           Okay explanation, needs more clarity.              3   \n",
       "496        It didn’t really help me solve my issue.              2   \n",
       "497  I need more context to understand this better.              2   \n",
       "498  Somewhat confusing; needs better organization.              2   \n",
       "499   Your answer was thorough and well-researched.              5   \n",
       "\n",
       "                   category        date  \n",
       "0     Unsupervised Learning  2023-06-10  \n",
       "1     Unsupervised Learning  2023-01-22  \n",
       "2     Unsupervised Learning  2023-02-22  \n",
       "3    Reinforcement Learning  2023-12-16  \n",
       "4     Unsupervised Learning  2023-01-29  \n",
       "..                      ...         ...  \n",
       "495  Reinforcement Learning  2023-03-02  \n",
       "496   Unsupervised Learning  2023-02-28  \n",
       "497  Reinforcement Learning  2024-07-02  \n",
       "498  Reinforcement Learning  2022-04-25  \n",
       "499  Reinforcement Learning  2024-05-14  \n",
       "\n",
       "[500 rows x 6 columns]"
      ]
     },
     "execution_count": 82,
     "metadata": {},
     "output_type": "execute_result"
    }
   ],
   "source": [
    "df_user"
   ]
  },
  {
   "cell_type": "code",
   "execution_count": 83,
   "metadata": {},
   "outputs": [
    {
     "name": "stdout",
     "output_type": "stream",
     "text": [
      "          date  user_count\n",
      "101 2022-01-01           1\n",
      "318 2022-01-04           1\n",
      "382 2022-01-05           1\n",
      "6   2022-01-07           3\n",
      "256 2022-01-12           1\n",
      "..         ...         ...\n",
      "168 2024-11-21           1\n",
      "292 2024-11-22           1\n",
      "154 2024-11-25           1\n",
      "225 2024-11-28           1\n",
      "219 2024-12-01           1\n",
      "\n",
      "[392 rows x 2 columns]\n"
     ]
    }
   ],
   "source": [
    "# Convert 'date' column to datetime\n",
    "df_user['date'] = pd.to_datetime(df_user['date'])\n",
    "\n",
    "# Count the number of users per date\n",
    "user_counts = df_user['date'].value_counts().reset_index()\n",
    "user_counts.columns = ['date', 'user_count']\n",
    "\n",
    "# Sort by date\n",
    "user_counts.sort_values(by='date', inplace=True)\n",
    "\n",
    "# Display the processed DataFrame\n",
    "print(user_counts)"
   ]
  },
  {
   "cell_type": "markdown",
   "metadata": {},
   "source": [
    "pandas,nltk,BERTopic,plotly.express\n"
   ]
  },
  {
   "cell_type": "code",
   "execution_count": null,
   "metadata": {},
   "outputs": [],
   "source": []
  },
  {
   "cell_type": "code",
   "execution_count": 84,
   "metadata": {},
   "outputs": [
    {
     "data": {
      "application/vnd.plotly.v1+json": {
       "config": {
        "plotlyServerURL": "https://plot.ly"
       },
       "data": [
        {
         "hovertemplate": "Date=%{x}<br>Number of Users=%{y}<extra></extra>",
         "legendgroup": "",
         "line": {
          "color": "#636efa",
          "dash": "solid"
         },
         "marker": {
          "symbol": "circle"
         },
         "mode": "lines+markers",
         "name": "",
         "orientation": "v",
         "showlegend": false,
         "type": "scatter",
         "x": [
          "2022-01-01T00:00:00",
          "2022-01-04T00:00:00",
          "2022-01-05T00:00:00",
          "2022-01-07T00:00:00",
          "2022-01-12T00:00:00",
          "2022-01-15T00:00:00",
          "2022-01-16T00:00:00",
          "2022-01-18T00:00:00",
          "2022-01-20T00:00:00",
          "2022-01-22T00:00:00",
          "2022-01-26T00:00:00",
          "2022-01-27T00:00:00",
          "2022-01-29T00:00:00",
          "2022-01-31T00:00:00",
          "2022-02-05T00:00:00",
          "2022-02-07T00:00:00",
          "2022-02-09T00:00:00",
          "2022-02-11T00:00:00",
          "2022-02-16T00:00:00",
          "2022-02-28T00:00:00",
          "2022-03-01T00:00:00",
          "2022-03-03T00:00:00",
          "2022-03-07T00:00:00",
          "2022-03-10T00:00:00",
          "2022-03-17T00:00:00",
          "2022-03-28T00:00:00",
          "2022-03-30T00:00:00",
          "2022-04-03T00:00:00",
          "2022-04-11T00:00:00",
          "2022-04-13T00:00:00",
          "2022-04-17T00:00:00",
          "2022-04-23T00:00:00",
          "2022-04-24T00:00:00",
          "2022-04-25T00:00:00",
          "2022-04-26T00:00:00",
          "2022-05-03T00:00:00",
          "2022-05-05T00:00:00",
          "2022-05-06T00:00:00",
          "2022-05-07T00:00:00",
          "2022-05-08T00:00:00",
          "2022-05-09T00:00:00",
          "2022-05-12T00:00:00",
          "2022-05-14T00:00:00",
          "2022-05-15T00:00:00",
          "2022-05-16T00:00:00",
          "2022-05-20T00:00:00",
          "2022-05-21T00:00:00",
          "2022-05-24T00:00:00",
          "2022-05-25T00:00:00",
          "2022-05-26T00:00:00",
          "2022-05-28T00:00:00",
          "2022-05-29T00:00:00",
          "2022-05-30T00:00:00",
          "2022-06-01T00:00:00",
          "2022-06-02T00:00:00",
          "2022-06-07T00:00:00",
          "2022-06-09T00:00:00",
          "2022-06-11T00:00:00",
          "2022-06-14T00:00:00",
          "2022-06-17T00:00:00",
          "2022-06-20T00:00:00",
          "2022-06-23T00:00:00",
          "2022-06-24T00:00:00",
          "2022-06-27T00:00:00",
          "2022-06-29T00:00:00",
          "2022-07-01T00:00:00",
          "2022-07-02T00:00:00",
          "2022-07-04T00:00:00",
          "2022-07-05T00:00:00",
          "2022-07-06T00:00:00",
          "2022-07-08T00:00:00",
          "2022-07-10T00:00:00",
          "2022-07-13T00:00:00",
          "2022-07-19T00:00:00",
          "2022-07-20T00:00:00",
          "2022-07-30T00:00:00",
          "2022-07-31T00:00:00",
          "2022-08-01T00:00:00",
          "2022-08-04T00:00:00",
          "2022-08-05T00:00:00",
          "2022-08-06T00:00:00",
          "2022-08-13T00:00:00",
          "2022-08-15T00:00:00",
          "2022-08-18T00:00:00",
          "2022-08-19T00:00:00",
          "2022-08-21T00:00:00",
          "2022-08-22T00:00:00",
          "2022-08-25T00:00:00",
          "2022-08-29T00:00:00",
          "2022-09-02T00:00:00",
          "2022-09-04T00:00:00",
          "2022-09-06T00:00:00",
          "2022-09-07T00:00:00",
          "2022-09-10T00:00:00",
          "2022-09-14T00:00:00",
          "2022-09-22T00:00:00",
          "2022-09-25T00:00:00",
          "2022-09-28T00:00:00",
          "2022-09-29T00:00:00",
          "2022-09-30T00:00:00",
          "2022-10-01T00:00:00",
          "2022-10-03T00:00:00",
          "2022-10-04T00:00:00",
          "2022-10-10T00:00:00",
          "2022-10-11T00:00:00",
          "2022-10-12T00:00:00",
          "2022-10-14T00:00:00",
          "2022-10-15T00:00:00",
          "2022-10-21T00:00:00",
          "2022-10-22T00:00:00",
          "2022-10-29T00:00:00",
          "2022-10-30T00:00:00",
          "2022-11-01T00:00:00",
          "2022-11-03T00:00:00",
          "2022-11-04T00:00:00",
          "2022-11-09T00:00:00",
          "2022-11-11T00:00:00",
          "2022-11-13T00:00:00",
          "2022-11-14T00:00:00",
          "2022-11-22T00:00:00",
          "2022-11-27T00:00:00",
          "2022-12-01T00:00:00",
          "2022-12-08T00:00:00",
          "2022-12-10T00:00:00",
          "2022-12-11T00:00:00",
          "2022-12-13T00:00:00",
          "2022-12-16T00:00:00",
          "2022-12-17T00:00:00",
          "2022-12-25T00:00:00",
          "2022-12-26T00:00:00",
          "2022-12-28T00:00:00",
          "2022-12-30T00:00:00",
          "2022-12-31T00:00:00",
          "2023-01-02T00:00:00",
          "2023-01-03T00:00:00",
          "2023-01-12T00:00:00",
          "2023-01-18T00:00:00",
          "2023-01-21T00:00:00",
          "2023-01-22T00:00:00",
          "2023-01-25T00:00:00",
          "2023-01-26T00:00:00",
          "2023-01-29T00:00:00",
          "2023-01-31T00:00:00",
          "2023-02-02T00:00:00",
          "2023-02-05T00:00:00",
          "2023-02-06T00:00:00",
          "2023-02-10T00:00:00",
          "2023-02-11T00:00:00",
          "2023-02-16T00:00:00",
          "2023-02-21T00:00:00",
          "2023-02-22T00:00:00",
          "2023-02-25T00:00:00",
          "2023-02-28T00:00:00",
          "2023-03-02T00:00:00",
          "2023-03-03T00:00:00",
          "2023-03-05T00:00:00",
          "2023-03-06T00:00:00",
          "2023-03-07T00:00:00",
          "2023-03-12T00:00:00",
          "2023-03-17T00:00:00",
          "2023-03-19T00:00:00",
          "2023-03-21T00:00:00",
          "2023-03-24T00:00:00",
          "2023-03-31T00:00:00",
          "2023-04-02T00:00:00",
          "2023-04-03T00:00:00",
          "2023-04-04T00:00:00",
          "2023-04-05T00:00:00",
          "2023-04-06T00:00:00",
          "2023-04-09T00:00:00",
          "2023-04-14T00:00:00",
          "2023-04-15T00:00:00",
          "2023-04-19T00:00:00",
          "2023-04-21T00:00:00",
          "2023-04-27T00:00:00",
          "2023-04-30T00:00:00",
          "2023-05-01T00:00:00",
          "2023-05-02T00:00:00",
          "2023-05-04T00:00:00",
          "2023-05-07T00:00:00",
          "2023-05-11T00:00:00",
          "2023-05-14T00:00:00",
          "2023-05-17T00:00:00",
          "2023-05-26T00:00:00",
          "2023-05-27T00:00:00",
          "2023-05-28T00:00:00",
          "2023-05-29T00:00:00",
          "2023-06-04T00:00:00",
          "2023-06-06T00:00:00",
          "2023-06-10T00:00:00",
          "2023-06-12T00:00:00",
          "2023-06-14T00:00:00",
          "2023-06-19T00:00:00",
          "2023-06-20T00:00:00",
          "2023-06-24T00:00:00",
          "2023-06-27T00:00:00",
          "2023-06-29T00:00:00",
          "2023-07-03T00:00:00",
          "2023-07-04T00:00:00",
          "2023-07-06T00:00:00",
          "2023-07-11T00:00:00",
          "2023-07-12T00:00:00",
          "2023-07-16T00:00:00",
          "2023-07-18T00:00:00",
          "2023-07-19T00:00:00",
          "2023-07-25T00:00:00",
          "2023-07-27T00:00:00",
          "2023-07-30T00:00:00",
          "2023-08-02T00:00:00",
          "2023-08-04T00:00:00",
          "2023-08-06T00:00:00",
          "2023-08-08T00:00:00",
          "2023-08-09T00:00:00",
          "2023-08-14T00:00:00",
          "2023-08-15T00:00:00",
          "2023-08-16T00:00:00",
          "2023-08-17T00:00:00",
          "2023-08-25T00:00:00",
          "2023-08-27T00:00:00",
          "2023-08-28T00:00:00",
          "2023-08-29T00:00:00",
          "2023-08-30T00:00:00",
          "2023-09-01T00:00:00",
          "2023-09-03T00:00:00",
          "2023-09-06T00:00:00",
          "2023-09-14T00:00:00",
          "2023-09-16T00:00:00",
          "2023-09-18T00:00:00",
          "2023-09-26T00:00:00",
          "2023-09-28T00:00:00",
          "2023-09-30T00:00:00",
          "2023-10-01T00:00:00",
          "2023-10-04T00:00:00",
          "2023-10-05T00:00:00",
          "2023-10-11T00:00:00",
          "2023-10-12T00:00:00",
          "2023-10-14T00:00:00",
          "2023-10-15T00:00:00",
          "2023-10-16T00:00:00",
          "2023-10-18T00:00:00",
          "2023-10-22T00:00:00",
          "2023-10-24T00:00:00",
          "2023-10-25T00:00:00",
          "2023-10-29T00:00:00",
          "2023-11-03T00:00:00",
          "2023-11-06T00:00:00",
          "2023-11-08T00:00:00",
          "2023-11-09T00:00:00",
          "2023-11-10T00:00:00",
          "2023-11-12T00:00:00",
          "2023-11-13T00:00:00",
          "2023-11-14T00:00:00",
          "2023-11-16T00:00:00",
          "2023-11-17T00:00:00",
          "2023-11-27T00:00:00",
          "2023-11-28T00:00:00",
          "2023-11-29T00:00:00",
          "2023-12-01T00:00:00",
          "2023-12-05T00:00:00",
          "2023-12-06T00:00:00",
          "2023-12-07T00:00:00",
          "2023-12-08T00:00:00",
          "2023-12-10T00:00:00",
          "2023-12-12T00:00:00",
          "2023-12-16T00:00:00",
          "2023-12-18T00:00:00",
          "2023-12-21T00:00:00",
          "2023-12-25T00:00:00",
          "2023-12-27T00:00:00",
          "2023-12-28T00:00:00",
          "2023-12-29T00:00:00",
          "2024-01-06T00:00:00",
          "2024-01-13T00:00:00",
          "2024-01-17T00:00:00",
          "2024-01-20T00:00:00",
          "2024-01-25T00:00:00",
          "2024-01-26T00:00:00",
          "2024-02-01T00:00:00",
          "2024-02-02T00:00:00",
          "2024-02-03T00:00:00",
          "2024-02-08T00:00:00",
          "2024-02-12T00:00:00",
          "2024-02-13T00:00:00",
          "2024-02-14T00:00:00",
          "2024-02-15T00:00:00",
          "2024-02-17T00:00:00",
          "2024-02-24T00:00:00",
          "2024-02-27T00:00:00",
          "2024-02-28T00:00:00",
          "2024-02-29T00:00:00",
          "2024-03-02T00:00:00",
          "2024-03-03T00:00:00",
          "2024-03-04T00:00:00",
          "2024-03-05T00:00:00",
          "2024-03-06T00:00:00",
          "2024-03-09T00:00:00",
          "2024-03-11T00:00:00",
          "2024-03-12T00:00:00",
          "2024-03-15T00:00:00",
          "2024-03-16T00:00:00",
          "2024-03-17T00:00:00",
          "2024-03-19T00:00:00",
          "2024-03-21T00:00:00",
          "2024-03-23T00:00:00",
          "2024-03-24T00:00:00",
          "2024-03-25T00:00:00",
          "2024-03-26T00:00:00",
          "2024-03-28T00:00:00",
          "2024-04-01T00:00:00",
          "2024-04-06T00:00:00",
          "2024-04-08T00:00:00",
          "2024-04-13T00:00:00",
          "2024-04-15T00:00:00",
          "2024-04-19T00:00:00",
          "2024-04-22T00:00:00",
          "2024-04-26T00:00:00",
          "2024-04-27T00:00:00",
          "2024-04-29T00:00:00",
          "2024-05-04T00:00:00",
          "2024-05-14T00:00:00",
          "2024-05-15T00:00:00",
          "2024-05-19T00:00:00",
          "2024-05-20T00:00:00",
          "2024-05-21T00:00:00",
          "2024-05-22T00:00:00",
          "2024-05-27T00:00:00",
          "2024-05-29T00:00:00",
          "2024-05-31T00:00:00",
          "2024-06-01T00:00:00",
          "2024-06-08T00:00:00",
          "2024-06-12T00:00:00",
          "2024-06-16T00:00:00",
          "2024-06-18T00:00:00",
          "2024-06-19T00:00:00",
          "2024-06-23T00:00:00",
          "2024-06-25T00:00:00",
          "2024-06-26T00:00:00",
          "2024-06-27T00:00:00",
          "2024-06-28T00:00:00",
          "2024-06-29T00:00:00",
          "2024-07-01T00:00:00",
          "2024-07-02T00:00:00",
          "2024-07-05T00:00:00",
          "2024-07-09T00:00:00",
          "2024-07-10T00:00:00",
          "2024-07-12T00:00:00",
          "2024-07-18T00:00:00",
          "2024-07-21T00:00:00",
          "2024-07-23T00:00:00",
          "2024-07-27T00:00:00",
          "2024-08-02T00:00:00",
          "2024-08-05T00:00:00",
          "2024-08-08T00:00:00",
          "2024-08-11T00:00:00",
          "2024-08-20T00:00:00",
          "2024-08-22T00:00:00",
          "2024-08-23T00:00:00",
          "2024-08-25T00:00:00",
          "2024-08-29T00:00:00",
          "2024-08-30T00:00:00",
          "2024-09-01T00:00:00",
          "2024-09-03T00:00:00",
          "2024-09-04T00:00:00",
          "2024-09-07T00:00:00",
          "2024-09-20T00:00:00",
          "2024-09-23T00:00:00",
          "2024-09-26T00:00:00",
          "2024-09-30T00:00:00",
          "2024-10-06T00:00:00",
          "2024-10-08T00:00:00",
          "2024-10-09T00:00:00",
          "2024-10-11T00:00:00",
          "2024-10-12T00:00:00",
          "2024-10-14T00:00:00",
          "2024-10-17T00:00:00",
          "2024-10-18T00:00:00",
          "2024-10-19T00:00:00",
          "2024-10-22T00:00:00",
          "2024-10-25T00:00:00",
          "2024-10-27T00:00:00",
          "2024-11-04T00:00:00",
          "2024-11-07T00:00:00",
          "2024-11-10T00:00:00",
          "2024-11-11T00:00:00",
          "2024-11-14T00:00:00",
          "2024-11-18T00:00:00",
          "2024-11-20T00:00:00",
          "2024-11-21T00:00:00",
          "2024-11-22T00:00:00",
          "2024-11-25T00:00:00",
          "2024-11-28T00:00:00",
          "2024-12-01T00:00:00"
         ],
         "xaxis": "x",
         "y": [
          1,
          1,
          1,
          3,
          1,
          2,
          1,
          1,
          2,
          2,
          1,
          1,
          1,
          1,
          1,
          1,
          1,
          1,
          2,
          1,
          1,
          1,
          1,
          1,
          1,
          2,
          1,
          1,
          2,
          1,
          1,
          1,
          2,
          3,
          1,
          1,
          1,
          1,
          1,
          1,
          1,
          2,
          1,
          1,
          2,
          1,
          2,
          1,
          1,
          1,
          2,
          1,
          1,
          1,
          1,
          1,
          1,
          1,
          1,
          1,
          1,
          1,
          2,
          1,
          1,
          1,
          2,
          1,
          1,
          1,
          2,
          1,
          1,
          1,
          1,
          1,
          1,
          1,
          2,
          2,
          1,
          1,
          1,
          1,
          2,
          2,
          1,
          1,
          1,
          1,
          2,
          1,
          1,
          1,
          1,
          1,
          1,
          1,
          1,
          1,
          1,
          1,
          1,
          1,
          1,
          1,
          1,
          1,
          1,
          2,
          1,
          1,
          1,
          1,
          1,
          1,
          1,
          1,
          1,
          1,
          1,
          3,
          2,
          1,
          1,
          1,
          1,
          2,
          1,
          1,
          2,
          1,
          1,
          1,
          1,
          1,
          3,
          1,
          2,
          1,
          1,
          1,
          1,
          3,
          1,
          1,
          1,
          1,
          1,
          2,
          2,
          2,
          2,
          2,
          1,
          1,
          1,
          1,
          1,
          1,
          2,
          1,
          1,
          1,
          1,
          1,
          1,
          1,
          2,
          1,
          1,
          1,
          2,
          1,
          2,
          1,
          1,
          1,
          3,
          1,
          2,
          1,
          1,
          1,
          1,
          1,
          3,
          1,
          1,
          1,
          1,
          1,
          1,
          1,
          1,
          1,
          2,
          2,
          1,
          1,
          1,
          3,
          2,
          1,
          2,
          1,
          2,
          1,
          2,
          1,
          1,
          2,
          1,
          1,
          1,
          2,
          2,
          1,
          1,
          1,
          1,
          2,
          3,
          2,
          1,
          1,
          1,
          1,
          1,
          2,
          1,
          1,
          1,
          1,
          1,
          1,
          2,
          1,
          1,
          1,
          1,
          3,
          1,
          1,
          1,
          1,
          1,
          1,
          2,
          1,
          1,
          1,
          1,
          1,
          1,
          1,
          4,
          1,
          2,
          2,
          1,
          1,
          1,
          1,
          1,
          1,
          1,
          1,
          1,
          1,
          1,
          1,
          2,
          1,
          1,
          2,
          1,
          1,
          1,
          1,
          2,
          3,
          1,
          4,
          1,
          1,
          1,
          2,
          1,
          2,
          1,
          1,
          1,
          3,
          1,
          1,
          1,
          1,
          1,
          2,
          1,
          1,
          2,
          1,
          1,
          1,
          2,
          1,
          1,
          1,
          1,
          1,
          1,
          1,
          1,
          1,
          1,
          1,
          1,
          1,
          1,
          1,
          2,
          2,
          1,
          1,
          1,
          1,
          2,
          1,
          1,
          1,
          1,
          1,
          1,
          2,
          1,
          1,
          2,
          1,
          1,
          3,
          1,
          2,
          1,
          1,
          1,
          2,
          3,
          1,
          1,
          1,
          1,
          1,
          1,
          1,
          1,
          1,
          2,
          1,
          1,
          1,
          1,
          1,
          1,
          1,
          1,
          1,
          2,
          1,
          1,
          1,
          1,
          1,
          2,
          2,
          1,
          2,
          1,
          1,
          2,
          2,
          1,
          1,
          2,
          1,
          2,
          1,
          1,
          1,
          1,
          1
         ],
         "yaxis": "y"
        }
       ],
       "layout": {
        "legend": {
         "tracegroupgap": 0
        },
        "template": {
         "data": {
          "bar": [
           {
            "error_x": {
             "color": "#2a3f5f"
            },
            "error_y": {
             "color": "#2a3f5f"
            },
            "marker": {
             "line": {
              "color": "#E5ECF6",
              "width": 0.5
             },
             "pattern": {
              "fillmode": "overlay",
              "size": 10,
              "solidity": 0.2
             }
            },
            "type": "bar"
           }
          ],
          "barpolar": [
           {
            "marker": {
             "line": {
              "color": "#E5ECF6",
              "width": 0.5
             },
             "pattern": {
              "fillmode": "overlay",
              "size": 10,
              "solidity": 0.2
             }
            },
            "type": "barpolar"
           }
          ],
          "carpet": [
           {
            "aaxis": {
             "endlinecolor": "#2a3f5f",
             "gridcolor": "white",
             "linecolor": "white",
             "minorgridcolor": "white",
             "startlinecolor": "#2a3f5f"
            },
            "baxis": {
             "endlinecolor": "#2a3f5f",
             "gridcolor": "white",
             "linecolor": "white",
             "minorgridcolor": "white",
             "startlinecolor": "#2a3f5f"
            },
            "type": "carpet"
           }
          ],
          "choropleth": [
           {
            "colorbar": {
             "outlinewidth": 0,
             "ticks": ""
            },
            "type": "choropleth"
           }
          ],
          "contour": [
           {
            "colorbar": {
             "outlinewidth": 0,
             "ticks": ""
            },
            "colorscale": [
             [
              0,
              "#0d0887"
             ],
             [
              0.1111111111111111,
              "#46039f"
             ],
             [
              0.2222222222222222,
              "#7201a8"
             ],
             [
              0.3333333333333333,
              "#9c179e"
             ],
             [
              0.4444444444444444,
              "#bd3786"
             ],
             [
              0.5555555555555556,
              "#d8576b"
             ],
             [
              0.6666666666666666,
              "#ed7953"
             ],
             [
              0.7777777777777778,
              "#fb9f3a"
             ],
             [
              0.8888888888888888,
              "#fdca26"
             ],
             [
              1,
              "#f0f921"
             ]
            ],
            "type": "contour"
           }
          ],
          "contourcarpet": [
           {
            "colorbar": {
             "outlinewidth": 0,
             "ticks": ""
            },
            "type": "contourcarpet"
           }
          ],
          "heatmap": [
           {
            "colorbar": {
             "outlinewidth": 0,
             "ticks": ""
            },
            "colorscale": [
             [
              0,
              "#0d0887"
             ],
             [
              0.1111111111111111,
              "#46039f"
             ],
             [
              0.2222222222222222,
              "#7201a8"
             ],
             [
              0.3333333333333333,
              "#9c179e"
             ],
             [
              0.4444444444444444,
              "#bd3786"
             ],
             [
              0.5555555555555556,
              "#d8576b"
             ],
             [
              0.6666666666666666,
              "#ed7953"
             ],
             [
              0.7777777777777778,
              "#fb9f3a"
             ],
             [
              0.8888888888888888,
              "#fdca26"
             ],
             [
              1,
              "#f0f921"
             ]
            ],
            "type": "heatmap"
           }
          ],
          "heatmapgl": [
           {
            "colorbar": {
             "outlinewidth": 0,
             "ticks": ""
            },
            "colorscale": [
             [
              0,
              "#0d0887"
             ],
             [
              0.1111111111111111,
              "#46039f"
             ],
             [
              0.2222222222222222,
              "#7201a8"
             ],
             [
              0.3333333333333333,
              "#9c179e"
             ],
             [
              0.4444444444444444,
              "#bd3786"
             ],
             [
              0.5555555555555556,
              "#d8576b"
             ],
             [
              0.6666666666666666,
              "#ed7953"
             ],
             [
              0.7777777777777778,
              "#fb9f3a"
             ],
             [
              0.8888888888888888,
              "#fdca26"
             ],
             [
              1,
              "#f0f921"
             ]
            ],
            "type": "heatmapgl"
           }
          ],
          "histogram": [
           {
            "marker": {
             "pattern": {
              "fillmode": "overlay",
              "size": 10,
              "solidity": 0.2
             }
            },
            "type": "histogram"
           }
          ],
          "histogram2d": [
           {
            "colorbar": {
             "outlinewidth": 0,
             "ticks": ""
            },
            "colorscale": [
             [
              0,
              "#0d0887"
             ],
             [
              0.1111111111111111,
              "#46039f"
             ],
             [
              0.2222222222222222,
              "#7201a8"
             ],
             [
              0.3333333333333333,
              "#9c179e"
             ],
             [
              0.4444444444444444,
              "#bd3786"
             ],
             [
              0.5555555555555556,
              "#d8576b"
             ],
             [
              0.6666666666666666,
              "#ed7953"
             ],
             [
              0.7777777777777778,
              "#fb9f3a"
             ],
             [
              0.8888888888888888,
              "#fdca26"
             ],
             [
              1,
              "#f0f921"
             ]
            ],
            "type": "histogram2d"
           }
          ],
          "histogram2dcontour": [
           {
            "colorbar": {
             "outlinewidth": 0,
             "ticks": ""
            },
            "colorscale": [
             [
              0,
              "#0d0887"
             ],
             [
              0.1111111111111111,
              "#46039f"
             ],
             [
              0.2222222222222222,
              "#7201a8"
             ],
             [
              0.3333333333333333,
              "#9c179e"
             ],
             [
              0.4444444444444444,
              "#bd3786"
             ],
             [
              0.5555555555555556,
              "#d8576b"
             ],
             [
              0.6666666666666666,
              "#ed7953"
             ],
             [
              0.7777777777777778,
              "#fb9f3a"
             ],
             [
              0.8888888888888888,
              "#fdca26"
             ],
             [
              1,
              "#f0f921"
             ]
            ],
            "type": "histogram2dcontour"
           }
          ],
          "mesh3d": [
           {
            "colorbar": {
             "outlinewidth": 0,
             "ticks": ""
            },
            "type": "mesh3d"
           }
          ],
          "parcoords": [
           {
            "line": {
             "colorbar": {
              "outlinewidth": 0,
              "ticks": ""
             }
            },
            "type": "parcoords"
           }
          ],
          "pie": [
           {
            "automargin": true,
            "type": "pie"
           }
          ],
          "scatter": [
           {
            "fillpattern": {
             "fillmode": "overlay",
             "size": 10,
             "solidity": 0.2
            },
            "type": "scatter"
           }
          ],
          "scatter3d": [
           {
            "line": {
             "colorbar": {
              "outlinewidth": 0,
              "ticks": ""
             }
            },
            "marker": {
             "colorbar": {
              "outlinewidth": 0,
              "ticks": ""
             }
            },
            "type": "scatter3d"
           }
          ],
          "scattercarpet": [
           {
            "marker": {
             "colorbar": {
              "outlinewidth": 0,
              "ticks": ""
             }
            },
            "type": "scattercarpet"
           }
          ],
          "scattergeo": [
           {
            "marker": {
             "colorbar": {
              "outlinewidth": 0,
              "ticks": ""
             }
            },
            "type": "scattergeo"
           }
          ],
          "scattergl": [
           {
            "marker": {
             "colorbar": {
              "outlinewidth": 0,
              "ticks": ""
             }
            },
            "type": "scattergl"
           }
          ],
          "scattermapbox": [
           {
            "marker": {
             "colorbar": {
              "outlinewidth": 0,
              "ticks": ""
             }
            },
            "type": "scattermapbox"
           }
          ],
          "scatterpolar": [
           {
            "marker": {
             "colorbar": {
              "outlinewidth": 0,
              "ticks": ""
             }
            },
            "type": "scatterpolar"
           }
          ],
          "scatterpolargl": [
           {
            "marker": {
             "colorbar": {
              "outlinewidth": 0,
              "ticks": ""
             }
            },
            "type": "scatterpolargl"
           }
          ],
          "scatterternary": [
           {
            "marker": {
             "colorbar": {
              "outlinewidth": 0,
              "ticks": ""
             }
            },
            "type": "scatterternary"
           }
          ],
          "surface": [
           {
            "colorbar": {
             "outlinewidth": 0,
             "ticks": ""
            },
            "colorscale": [
             [
              0,
              "#0d0887"
             ],
             [
              0.1111111111111111,
              "#46039f"
             ],
             [
              0.2222222222222222,
              "#7201a8"
             ],
             [
              0.3333333333333333,
              "#9c179e"
             ],
             [
              0.4444444444444444,
              "#bd3786"
             ],
             [
              0.5555555555555556,
              "#d8576b"
             ],
             [
              0.6666666666666666,
              "#ed7953"
             ],
             [
              0.7777777777777778,
              "#fb9f3a"
             ],
             [
              0.8888888888888888,
              "#fdca26"
             ],
             [
              1,
              "#f0f921"
             ]
            ],
            "type": "surface"
           }
          ],
          "table": [
           {
            "cells": {
             "fill": {
              "color": "#EBF0F8"
             },
             "line": {
              "color": "white"
             }
            },
            "header": {
             "fill": {
              "color": "#C8D4E3"
             },
             "line": {
              "color": "white"
             }
            },
            "type": "table"
           }
          ]
         },
         "layout": {
          "annotationdefaults": {
           "arrowcolor": "#2a3f5f",
           "arrowhead": 0,
           "arrowwidth": 1
          },
          "autotypenumbers": "strict",
          "coloraxis": {
           "colorbar": {
            "outlinewidth": 0,
            "ticks": ""
           }
          },
          "colorscale": {
           "diverging": [
            [
             0,
             "#8e0152"
            ],
            [
             0.1,
             "#c51b7d"
            ],
            [
             0.2,
             "#de77ae"
            ],
            [
             0.3,
             "#f1b6da"
            ],
            [
             0.4,
             "#fde0ef"
            ],
            [
             0.5,
             "#f7f7f7"
            ],
            [
             0.6,
             "#e6f5d0"
            ],
            [
             0.7,
             "#b8e186"
            ],
            [
             0.8,
             "#7fbc41"
            ],
            [
             0.9,
             "#4d9221"
            ],
            [
             1,
             "#276419"
            ]
           ],
           "sequential": [
            [
             0,
             "#0d0887"
            ],
            [
             0.1111111111111111,
             "#46039f"
            ],
            [
             0.2222222222222222,
             "#7201a8"
            ],
            [
             0.3333333333333333,
             "#9c179e"
            ],
            [
             0.4444444444444444,
             "#bd3786"
            ],
            [
             0.5555555555555556,
             "#d8576b"
            ],
            [
             0.6666666666666666,
             "#ed7953"
            ],
            [
             0.7777777777777778,
             "#fb9f3a"
            ],
            [
             0.8888888888888888,
             "#fdca26"
            ],
            [
             1,
             "#f0f921"
            ]
           ],
           "sequentialminus": [
            [
             0,
             "#0d0887"
            ],
            [
             0.1111111111111111,
             "#46039f"
            ],
            [
             0.2222222222222222,
             "#7201a8"
            ],
            [
             0.3333333333333333,
             "#9c179e"
            ],
            [
             0.4444444444444444,
             "#bd3786"
            ],
            [
             0.5555555555555556,
             "#d8576b"
            ],
            [
             0.6666666666666666,
             "#ed7953"
            ],
            [
             0.7777777777777778,
             "#fb9f3a"
            ],
            [
             0.8888888888888888,
             "#fdca26"
            ],
            [
             1,
             "#f0f921"
            ]
           ]
          },
          "colorway": [
           "#636efa",
           "#EF553B",
           "#00cc96",
           "#ab63fa",
           "#FFA15A",
           "#19d3f3",
           "#FF6692",
           "#B6E880",
           "#FF97FF",
           "#FECB52"
          ],
          "font": {
           "color": "#2a3f5f"
          },
          "geo": {
           "bgcolor": "white",
           "lakecolor": "white",
           "landcolor": "#E5ECF6",
           "showlakes": true,
           "showland": true,
           "subunitcolor": "white"
          },
          "hoverlabel": {
           "align": "left"
          },
          "hovermode": "closest",
          "mapbox": {
           "style": "light"
          },
          "paper_bgcolor": "white",
          "plot_bgcolor": "#E5ECF6",
          "polar": {
           "angularaxis": {
            "gridcolor": "white",
            "linecolor": "white",
            "ticks": ""
           },
           "bgcolor": "#E5ECF6",
           "radialaxis": {
            "gridcolor": "white",
            "linecolor": "white",
            "ticks": ""
           }
          },
          "scene": {
           "xaxis": {
            "backgroundcolor": "#E5ECF6",
            "gridcolor": "white",
            "gridwidth": 2,
            "linecolor": "white",
            "showbackground": true,
            "ticks": "",
            "zerolinecolor": "white"
           },
           "yaxis": {
            "backgroundcolor": "#E5ECF6",
            "gridcolor": "white",
            "gridwidth": 2,
            "linecolor": "white",
            "showbackground": true,
            "ticks": "",
            "zerolinecolor": "white"
           },
           "zaxis": {
            "backgroundcolor": "#E5ECF6",
            "gridcolor": "white",
            "gridwidth": 2,
            "linecolor": "white",
            "showbackground": true,
            "ticks": "",
            "zerolinecolor": "white"
           }
          },
          "shapedefaults": {
           "line": {
            "color": "#2a3f5f"
           }
          },
          "ternary": {
           "aaxis": {
            "gridcolor": "white",
            "linecolor": "white",
            "ticks": ""
           },
           "baxis": {
            "gridcolor": "white",
            "linecolor": "white",
            "ticks": ""
           },
           "bgcolor": "#E5ECF6",
           "caxis": {
            "gridcolor": "white",
            "linecolor": "white",
            "ticks": ""
           }
          },
          "title": {
           "x": 0.05
          },
          "xaxis": {
           "automargin": true,
           "gridcolor": "white",
           "linecolor": "white",
           "ticks": "",
           "title": {
            "standoff": 15
           },
           "zerolinecolor": "white",
           "zerolinewidth": 2
          },
          "yaxis": {
           "automargin": true,
           "gridcolor": "white",
           "linecolor": "white",
           "ticks": "",
           "title": {
            "standoff": 15
           },
           "zerolinecolor": "white",
           "zerolinewidth": 2
          }
         }
        },
        "title": {
         "text": "User Count per Date"
        },
        "xaxis": {
         "anchor": "y",
         "domain": [
          0,
          1
         ],
         "title": {
          "text": "Date"
         }
        },
        "yaxis": {
         "anchor": "x",
         "domain": [
          0,
          1
         ],
         "title": {
          "text": "Number of Users"
         }
        }
       }
      }
     },
     "metadata": {},
     "output_type": "display_data"
    }
   ],
   "source": [
    "import plotly.express as px\n",
    "\n",
    "# Create a line plot\n",
    "fig = px.line(user_counts, x='date', y='user_count', \n",
    "              title='User Count per Date',\n",
    "              labels={'user_count': 'Number of Users', 'date': 'Date'},\n",
    "              markers=True)\n",
    "\n",
    "# Show the plot\n",
    "fig.show()"
   ]
  },
  {
   "cell_type": "code",
   "execution_count": 85,
   "metadata": {},
   "outputs": [
    {
     "name": "stdout",
     "output_type": "stream",
     "text": [
      "   year_month  user_count\n",
      "0     2022-01          19\n",
      "1     2022-02           7\n",
      "2     2022-03           8\n",
      "3     2022-04          12\n",
      "4     2022-05          22\n",
      "5     2022-06          13\n",
      "6     2022-07          14\n",
      "7     2022-08          16\n",
      "8     2022-09          12\n",
      "9     2022-10          13\n",
      "10    2022-11           9\n",
      "11    2022-12          17\n",
      "12    2023-01          13\n",
      "13    2023-02          16\n",
      "14    2023-03          13\n",
      "15    2023-04          15\n",
      "16    2023-05          16\n",
      "17    2023-06          11\n",
      "18    2023-07          17\n",
      "19    2023-08          19\n",
      "20    2023-09          13\n",
      "21    2023-10          16\n",
      "22    2023-11          17\n",
      "23    2023-12          16\n",
      "24    2024-01           8\n",
      "25    2024-02          21\n",
      "26    2024-03          23\n",
      "27    2024-04          10\n",
      "28    2024-05          12\n",
      "29    2024-06          15\n",
      "30    2024-07          16\n",
      "31    2024-08          11\n",
      "32    2024-09           8\n",
      "33    2024-10          16\n",
      "34    2024-11          15\n",
      "35    2024-12           1\n"
     ]
    }
   ],
   "source": [
    "# Convert 'date' column to datetime\n",
    "df_user['date'] = pd.to_datetime(df_user['date'])\n",
    "\n",
    "# Extract year and month for grouping\n",
    "df_user['year_month'] = df_user['date'].dt.to_period('M')\n",
    "\n",
    "# Count the number of users per month\n",
    "monthly_user_counts = df_user.groupby('year_month').size().reset_index(name='user_count')\n",
    "\n",
    "# Convert 'year_month' back to string for better plotting\n",
    "monthly_user_counts['year_month'] = monthly_user_counts['year_month'].astype(str)\n",
    "\n",
    "# Display the processed df_userFrame\n",
    "print(monthly_user_counts)"
   ]
  },
  {
   "cell_type": "code",
   "execution_count": 86,
   "metadata": {},
   "outputs": [
    {
     "data": {
      "application/vnd.plotly.v1+json": {
       "config": {
        "plotlyServerURL": "https://plot.ly"
       },
       "data": [
        {
         "hovertemplate": "Month=%{x}<br>Number of Users=%{y}<extra></extra>",
         "legendgroup": "",
         "line": {
          "color": "#636efa",
          "dash": "solid"
         },
         "marker": {
          "symbol": "circle"
         },
         "mode": "lines+markers",
         "name": "",
         "orientation": "v",
         "showlegend": false,
         "type": "scatter",
         "x": [
          "2022-01",
          "2022-02",
          "2022-03",
          "2022-04",
          "2022-05",
          "2022-06",
          "2022-07",
          "2022-08",
          "2022-09",
          "2022-10",
          "2022-11",
          "2022-12",
          "2023-01",
          "2023-02",
          "2023-03",
          "2023-04",
          "2023-05",
          "2023-06",
          "2023-07",
          "2023-08",
          "2023-09",
          "2023-10",
          "2023-11",
          "2023-12",
          "2024-01",
          "2024-02",
          "2024-03",
          "2024-04",
          "2024-05",
          "2024-06",
          "2024-07",
          "2024-08",
          "2024-09",
          "2024-10",
          "2024-11",
          "2024-12"
         ],
         "xaxis": "x",
         "y": [
          19,
          7,
          8,
          12,
          22,
          13,
          14,
          16,
          12,
          13,
          9,
          17,
          13,
          16,
          13,
          15,
          16,
          11,
          17,
          19,
          13,
          16,
          17,
          16,
          8,
          21,
          23,
          10,
          12,
          15,
          16,
          11,
          8,
          16,
          15,
          1
         ],
         "yaxis": "y"
        }
       ],
       "layout": {
        "legend": {
         "tracegroupgap": 0
        },
        "template": {
         "data": {
          "bar": [
           {
            "error_x": {
             "color": "#2a3f5f"
            },
            "error_y": {
             "color": "#2a3f5f"
            },
            "marker": {
             "line": {
              "color": "#E5ECF6",
              "width": 0.5
             },
             "pattern": {
              "fillmode": "overlay",
              "size": 10,
              "solidity": 0.2
             }
            },
            "type": "bar"
           }
          ],
          "barpolar": [
           {
            "marker": {
             "line": {
              "color": "#E5ECF6",
              "width": 0.5
             },
             "pattern": {
              "fillmode": "overlay",
              "size": 10,
              "solidity": 0.2
             }
            },
            "type": "barpolar"
           }
          ],
          "carpet": [
           {
            "aaxis": {
             "endlinecolor": "#2a3f5f",
             "gridcolor": "white",
             "linecolor": "white",
             "minorgridcolor": "white",
             "startlinecolor": "#2a3f5f"
            },
            "baxis": {
             "endlinecolor": "#2a3f5f",
             "gridcolor": "white",
             "linecolor": "white",
             "minorgridcolor": "white",
             "startlinecolor": "#2a3f5f"
            },
            "type": "carpet"
           }
          ],
          "choropleth": [
           {
            "colorbar": {
             "outlinewidth": 0,
             "ticks": ""
            },
            "type": "choropleth"
           }
          ],
          "contour": [
           {
            "colorbar": {
             "outlinewidth": 0,
             "ticks": ""
            },
            "colorscale": [
             [
              0,
              "#0d0887"
             ],
             [
              0.1111111111111111,
              "#46039f"
             ],
             [
              0.2222222222222222,
              "#7201a8"
             ],
             [
              0.3333333333333333,
              "#9c179e"
             ],
             [
              0.4444444444444444,
              "#bd3786"
             ],
             [
              0.5555555555555556,
              "#d8576b"
             ],
             [
              0.6666666666666666,
              "#ed7953"
             ],
             [
              0.7777777777777778,
              "#fb9f3a"
             ],
             [
              0.8888888888888888,
              "#fdca26"
             ],
             [
              1,
              "#f0f921"
             ]
            ],
            "type": "contour"
           }
          ],
          "contourcarpet": [
           {
            "colorbar": {
             "outlinewidth": 0,
             "ticks": ""
            },
            "type": "contourcarpet"
           }
          ],
          "heatmap": [
           {
            "colorbar": {
             "outlinewidth": 0,
             "ticks": ""
            },
            "colorscale": [
             [
              0,
              "#0d0887"
             ],
             [
              0.1111111111111111,
              "#46039f"
             ],
             [
              0.2222222222222222,
              "#7201a8"
             ],
             [
              0.3333333333333333,
              "#9c179e"
             ],
             [
              0.4444444444444444,
              "#bd3786"
             ],
             [
              0.5555555555555556,
              "#d8576b"
             ],
             [
              0.6666666666666666,
              "#ed7953"
             ],
             [
              0.7777777777777778,
              "#fb9f3a"
             ],
             [
              0.8888888888888888,
              "#fdca26"
             ],
             [
              1,
              "#f0f921"
             ]
            ],
            "type": "heatmap"
           }
          ],
          "heatmapgl": [
           {
            "colorbar": {
             "outlinewidth": 0,
             "ticks": ""
            },
            "colorscale": [
             [
              0,
              "#0d0887"
             ],
             [
              0.1111111111111111,
              "#46039f"
             ],
             [
              0.2222222222222222,
              "#7201a8"
             ],
             [
              0.3333333333333333,
              "#9c179e"
             ],
             [
              0.4444444444444444,
              "#bd3786"
             ],
             [
              0.5555555555555556,
              "#d8576b"
             ],
             [
              0.6666666666666666,
              "#ed7953"
             ],
             [
              0.7777777777777778,
              "#fb9f3a"
             ],
             [
              0.8888888888888888,
              "#fdca26"
             ],
             [
              1,
              "#f0f921"
             ]
            ],
            "type": "heatmapgl"
           }
          ],
          "histogram": [
           {
            "marker": {
             "pattern": {
              "fillmode": "overlay",
              "size": 10,
              "solidity": 0.2
             }
            },
            "type": "histogram"
           }
          ],
          "histogram2d": [
           {
            "colorbar": {
             "outlinewidth": 0,
             "ticks": ""
            },
            "colorscale": [
             [
              0,
              "#0d0887"
             ],
             [
              0.1111111111111111,
              "#46039f"
             ],
             [
              0.2222222222222222,
              "#7201a8"
             ],
             [
              0.3333333333333333,
              "#9c179e"
             ],
             [
              0.4444444444444444,
              "#bd3786"
             ],
             [
              0.5555555555555556,
              "#d8576b"
             ],
             [
              0.6666666666666666,
              "#ed7953"
             ],
             [
              0.7777777777777778,
              "#fb9f3a"
             ],
             [
              0.8888888888888888,
              "#fdca26"
             ],
             [
              1,
              "#f0f921"
             ]
            ],
            "type": "histogram2d"
           }
          ],
          "histogram2dcontour": [
           {
            "colorbar": {
             "outlinewidth": 0,
             "ticks": ""
            },
            "colorscale": [
             [
              0,
              "#0d0887"
             ],
             [
              0.1111111111111111,
              "#46039f"
             ],
             [
              0.2222222222222222,
              "#7201a8"
             ],
             [
              0.3333333333333333,
              "#9c179e"
             ],
             [
              0.4444444444444444,
              "#bd3786"
             ],
             [
              0.5555555555555556,
              "#d8576b"
             ],
             [
              0.6666666666666666,
              "#ed7953"
             ],
             [
              0.7777777777777778,
              "#fb9f3a"
             ],
             [
              0.8888888888888888,
              "#fdca26"
             ],
             [
              1,
              "#f0f921"
             ]
            ],
            "type": "histogram2dcontour"
           }
          ],
          "mesh3d": [
           {
            "colorbar": {
             "outlinewidth": 0,
             "ticks": ""
            },
            "type": "mesh3d"
           }
          ],
          "parcoords": [
           {
            "line": {
             "colorbar": {
              "outlinewidth": 0,
              "ticks": ""
             }
            },
            "type": "parcoords"
           }
          ],
          "pie": [
           {
            "automargin": true,
            "type": "pie"
           }
          ],
          "scatter": [
           {
            "fillpattern": {
             "fillmode": "overlay",
             "size": 10,
             "solidity": 0.2
            },
            "type": "scatter"
           }
          ],
          "scatter3d": [
           {
            "line": {
             "colorbar": {
              "outlinewidth": 0,
              "ticks": ""
             }
            },
            "marker": {
             "colorbar": {
              "outlinewidth": 0,
              "ticks": ""
             }
            },
            "type": "scatter3d"
           }
          ],
          "scattercarpet": [
           {
            "marker": {
             "colorbar": {
              "outlinewidth": 0,
              "ticks": ""
             }
            },
            "type": "scattercarpet"
           }
          ],
          "scattergeo": [
           {
            "marker": {
             "colorbar": {
              "outlinewidth": 0,
              "ticks": ""
             }
            },
            "type": "scattergeo"
           }
          ],
          "scattergl": [
           {
            "marker": {
             "colorbar": {
              "outlinewidth": 0,
              "ticks": ""
             }
            },
            "type": "scattergl"
           }
          ],
          "scattermapbox": [
           {
            "marker": {
             "colorbar": {
              "outlinewidth": 0,
              "ticks": ""
             }
            },
            "type": "scattermapbox"
           }
          ],
          "scatterpolar": [
           {
            "marker": {
             "colorbar": {
              "outlinewidth": 0,
              "ticks": ""
             }
            },
            "type": "scatterpolar"
           }
          ],
          "scatterpolargl": [
           {
            "marker": {
             "colorbar": {
              "outlinewidth": 0,
              "ticks": ""
             }
            },
            "type": "scatterpolargl"
           }
          ],
          "scatterternary": [
           {
            "marker": {
             "colorbar": {
              "outlinewidth": 0,
              "ticks": ""
             }
            },
            "type": "scatterternary"
           }
          ],
          "surface": [
           {
            "colorbar": {
             "outlinewidth": 0,
             "ticks": ""
            },
            "colorscale": [
             [
              0,
              "#0d0887"
             ],
             [
              0.1111111111111111,
              "#46039f"
             ],
             [
              0.2222222222222222,
              "#7201a8"
             ],
             [
              0.3333333333333333,
              "#9c179e"
             ],
             [
              0.4444444444444444,
              "#bd3786"
             ],
             [
              0.5555555555555556,
              "#d8576b"
             ],
             [
              0.6666666666666666,
              "#ed7953"
             ],
             [
              0.7777777777777778,
              "#fb9f3a"
             ],
             [
              0.8888888888888888,
              "#fdca26"
             ],
             [
              1,
              "#f0f921"
             ]
            ],
            "type": "surface"
           }
          ],
          "table": [
           {
            "cells": {
             "fill": {
              "color": "#EBF0F8"
             },
             "line": {
              "color": "white"
             }
            },
            "header": {
             "fill": {
              "color": "#C8D4E3"
             },
             "line": {
              "color": "white"
             }
            },
            "type": "table"
           }
          ]
         },
         "layout": {
          "annotationdefaults": {
           "arrowcolor": "#2a3f5f",
           "arrowhead": 0,
           "arrowwidth": 1
          },
          "autotypenumbers": "strict",
          "coloraxis": {
           "colorbar": {
            "outlinewidth": 0,
            "ticks": ""
           }
          },
          "colorscale": {
           "diverging": [
            [
             0,
             "#8e0152"
            ],
            [
             0.1,
             "#c51b7d"
            ],
            [
             0.2,
             "#de77ae"
            ],
            [
             0.3,
             "#f1b6da"
            ],
            [
             0.4,
             "#fde0ef"
            ],
            [
             0.5,
             "#f7f7f7"
            ],
            [
             0.6,
             "#e6f5d0"
            ],
            [
             0.7,
             "#b8e186"
            ],
            [
             0.8,
             "#7fbc41"
            ],
            [
             0.9,
             "#4d9221"
            ],
            [
             1,
             "#276419"
            ]
           ],
           "sequential": [
            [
             0,
             "#0d0887"
            ],
            [
             0.1111111111111111,
             "#46039f"
            ],
            [
             0.2222222222222222,
             "#7201a8"
            ],
            [
             0.3333333333333333,
             "#9c179e"
            ],
            [
             0.4444444444444444,
             "#bd3786"
            ],
            [
             0.5555555555555556,
             "#d8576b"
            ],
            [
             0.6666666666666666,
             "#ed7953"
            ],
            [
             0.7777777777777778,
             "#fb9f3a"
            ],
            [
             0.8888888888888888,
             "#fdca26"
            ],
            [
             1,
             "#f0f921"
            ]
           ],
           "sequentialminus": [
            [
             0,
             "#0d0887"
            ],
            [
             0.1111111111111111,
             "#46039f"
            ],
            [
             0.2222222222222222,
             "#7201a8"
            ],
            [
             0.3333333333333333,
             "#9c179e"
            ],
            [
             0.4444444444444444,
             "#bd3786"
            ],
            [
             0.5555555555555556,
             "#d8576b"
            ],
            [
             0.6666666666666666,
             "#ed7953"
            ],
            [
             0.7777777777777778,
             "#fb9f3a"
            ],
            [
             0.8888888888888888,
             "#fdca26"
            ],
            [
             1,
             "#f0f921"
            ]
           ]
          },
          "colorway": [
           "#636efa",
           "#EF553B",
           "#00cc96",
           "#ab63fa",
           "#FFA15A",
           "#19d3f3",
           "#FF6692",
           "#B6E880",
           "#FF97FF",
           "#FECB52"
          ],
          "font": {
           "color": "#2a3f5f"
          },
          "geo": {
           "bgcolor": "white",
           "lakecolor": "white",
           "landcolor": "#E5ECF6",
           "showlakes": true,
           "showland": true,
           "subunitcolor": "white"
          },
          "hoverlabel": {
           "align": "left"
          },
          "hovermode": "closest",
          "mapbox": {
           "style": "light"
          },
          "paper_bgcolor": "white",
          "plot_bgcolor": "#E5ECF6",
          "polar": {
           "angularaxis": {
            "gridcolor": "white",
            "linecolor": "white",
            "ticks": ""
           },
           "bgcolor": "#E5ECF6",
           "radialaxis": {
            "gridcolor": "white",
            "linecolor": "white",
            "ticks": ""
           }
          },
          "scene": {
           "xaxis": {
            "backgroundcolor": "#E5ECF6",
            "gridcolor": "white",
            "gridwidth": 2,
            "linecolor": "white",
            "showbackground": true,
            "ticks": "",
            "zerolinecolor": "white"
           },
           "yaxis": {
            "backgroundcolor": "#E5ECF6",
            "gridcolor": "white",
            "gridwidth": 2,
            "linecolor": "white",
            "showbackground": true,
            "ticks": "",
            "zerolinecolor": "white"
           },
           "zaxis": {
            "backgroundcolor": "#E5ECF6",
            "gridcolor": "white",
            "gridwidth": 2,
            "linecolor": "white",
            "showbackground": true,
            "ticks": "",
            "zerolinecolor": "white"
           }
          },
          "shapedefaults": {
           "line": {
            "color": "#2a3f5f"
           }
          },
          "ternary": {
           "aaxis": {
            "gridcolor": "white",
            "linecolor": "white",
            "ticks": ""
           },
           "baxis": {
            "gridcolor": "white",
            "linecolor": "white",
            "ticks": ""
           },
           "bgcolor": "#E5ECF6",
           "caxis": {
            "gridcolor": "white",
            "linecolor": "white",
            "ticks": ""
           }
          },
          "title": {
           "x": 0.05
          },
          "xaxis": {
           "automargin": true,
           "gridcolor": "white",
           "linecolor": "white",
           "ticks": "",
           "title": {
            "standoff": 15
           },
           "zerolinecolor": "white",
           "zerolinewidth": 2
          },
          "yaxis": {
           "automargin": true,
           "gridcolor": "white",
           "linecolor": "white",
           "ticks": "",
           "title": {
            "standoff": 15
           },
           "zerolinecolor": "white",
           "zerolinewidth": 2
          }
         }
        },
        "title": {
         "text": "User Count per Month"
        },
        "xaxis": {
         "anchor": "y",
         "domain": [
          0,
          1
         ],
         "title": {
          "text": "Month"
         }
        },
        "yaxis": {
         "anchor": "x",
         "domain": [
          0,
          1
         ],
         "title": {
          "text": "Number of Users"
         }
        }
       }
      }
     },
     "metadata": {},
     "output_type": "display_data"
    }
   ],
   "source": [
    "import plotly.express as px\n",
    "\n",
    "# Create a line plot\n",
    "fig = px.line(monthly_user_counts, x='year_month', y='user_count', \n",
    "              title='User Count per Month',\n",
    "              labels={'user_count': 'Number of Users', 'year_month': 'Month'},\n",
    "              markers=True)\n",
    "\n",
    "# Show the plot\n",
    "fig.show()"
   ]
  },
  {
   "cell_type": "code",
   "execution_count": null,
   "metadata": {},
   "outputs": [],
   "source": []
  }
 ],
 "metadata": {
  "kernelspec": {
   "display_name": "Python 3",
   "language": "python",
   "name": "python3"
  },
  "language_info": {
   "codemirror_mode": {
    "name": "ipython",
    "version": 3
   },
   "file_extension": ".py",
   "mimetype": "text/x-python",
   "name": "python",
   "nbconvert_exporter": "python",
   "pygments_lexer": "ipython3",
   "version": "3.12.1"
  }
 },
 "nbformat": 4,
 "nbformat_minor": 2
}
