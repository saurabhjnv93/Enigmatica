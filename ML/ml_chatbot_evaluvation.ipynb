{
  "nbformat": 4,
  "nbformat_minor": 0,
  "metadata": {
    "colab": {
      "provenance": []
    },
    "kernelspec": {
      "name": "python3",
      "display_name": "Python 3"
    },
    "language_info": {
      "name": "python"
    }
  },
  "cells": [
    {
      "cell_type": "code",
      "execution_count": 2,
      "metadata": {
        "colab": {
          "base_uri": "https://localhost:8080/"
        },
        "id": "VrS3hEBL95c2",
        "outputId": "382ba37d-1f8c-4ed0-a507-1b2aca5ee374"
      },
      "outputs": [
        {
          "output_type": "stream",
          "name": "stdout",
          "text": [
            "Average modelVSgpt3: 0.60325503\n",
            "Average modelVSgpt4: 0.6040138\n",
            "Average modelvsweb: 0.5241204816102981\n"
          ]
        }
      ],
      "source": [
        "import pandas as pd\n",
        "from sentence_transformers import SentenceTransformer, util\n",
        "\n",
        "# Load your file\n",
        "df = pd.read_csv(\"Accurency.csv\")\n",
        "\n",
        "# Load sentence transformer model\n",
        "model_st = SentenceTransformer('sentence-transformers/all-MiniLM-L6-v2')\n",
        "\n",
        "# Encode answers\n",
        "emb_model = model_st.encode(df['model'].tolist(), convert_to_tensor=True)\n",
        "emb_gpt3 = model_st.encode(df['GPT3.5 Answer'].tolist(), convert_to_tensor=True)\n",
        "emb_gpt4 = model_st.encode(df['GPT4 Answer'].tolist(), convert_to_tensor=True)\n",
        "\n",
        "# Compute cosine similarities (diagonal for row-wise comparison)\n",
        "df['modelVSgpt3'] = util.cos_sim(emb_model, emb_gpt3).diagonal().cpu().numpy()\n",
        "df['modelVSgpt4'] = util.cos_sim(emb_model, emb_gpt4).diagonal().cpu().numpy()\n",
        "\n",
        "# Print averages\n",
        "print(\"Average modelVSgpt3:\", df['modelVSgpt3'].mean())\n",
        "print(\"Average modelVSgpt4:\", df['modelVSgpt4'].mean())\n",
        "print(\"Average modelvsweb:\",df['mdlVSweb'].mean())\n",
        "# Save updated file\n",
        "df.to_csv(\"Accurency_with_similarity.csv\", index=False)\n"
      ]
    },
    {
      "cell_type": "code",
      "source": [],
      "metadata": {
        "id": "dlE8Fupl-LYp"
      },
      "execution_count": null,
      "outputs": []
    }
  ]
}